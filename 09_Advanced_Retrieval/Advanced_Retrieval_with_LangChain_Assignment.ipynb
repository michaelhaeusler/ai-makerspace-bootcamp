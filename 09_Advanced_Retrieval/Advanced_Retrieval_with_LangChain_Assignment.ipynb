{
  "cells": [
    {
      "cell_type": "markdown",
      "metadata": {
        "id": "e-IqJAMkwnCF"
      },
      "source": [
        "# Advanced Retrieval with LangChain\n",
        "\n",
        "In the following notebook, we'll explore various methods of advanced retrieval using LangChain!\n",
        "\n",
        "We'll touch on:\n",
        "\n",
        "- Naive Retrieval\n",
        "- Best-Matching 25 (BM25)\n",
        "- Multi-Query Retrieval\n",
        "- Parent-Document Retrieval\n",
        "- Contextual Compression (a.k.a. Rerank)\n",
        "- Ensemble Retrieval\n",
        "- Semantic chunking\n",
        "\n",
        "We'll also discuss how these methods impact performance on our set of documents with a simple RAG chain.\n",
        "\n",
        "There will be two breakout rooms:\n",
        "\n",
        "- 🤝 Breakout Room Part #1\n",
        "  - Task 1: Getting Dependencies!\n",
        "  - Task 2: Data Collection and Preparation\n",
        "  - Task 3: Setting Up QDrant!\n",
        "  - Task 4-10: Retrieval Strategies\n",
        "- 🤝 Breakout Room Part #2\n",
        "  - Activity: Evaluate with Ragas"
      ]
    },
    {
      "cell_type": "markdown",
      "metadata": {
        "id": "4rKP3hgHivpe"
      },
      "source": [
        "# 🤝 Breakout Room Part #1"
      ]
    },
    {
      "cell_type": "markdown",
      "metadata": {
        "id": "3xes8oT-xHN7"
      },
      "source": [
        "## Task 1: Getting Dependencies!\n",
        "\n",
        "We're going to need a few specific LangChain community packages, like OpenAI (for our [LLM](https://platform.openai.com/docs/models) and [Embedding Model](https://platform.openai.com/docs/guides/embeddings)) and Cohere (for our [Reranker](https://cohere.com/rerank))."
      ]
    },
    {
      "cell_type": "markdown",
      "metadata": {
        "id": "Z7OHJXzfyJyA"
      },
      "source": [
        "We'll also provide our OpenAI key, as well as our Cohere API key."
      ]
    },
    {
      "cell_type": "code",
      "execution_count": 7,
      "metadata": {
        "colab": {
          "base_uri": "https://localhost:8080/"
        },
        "id": "7LttlDQUYgSI",
        "outputId": "9dca95ab-4d02-4adf-ec3f-cb831326dc54"
      },
      "outputs": [],
      "source": [
        "import os\n",
        "import getpass\n",
        "\n",
        "os.environ[\"OPENAI_API_KEY\"] = getpass.getpass(\"Enter your OpenAI API Key:\")"
      ]
    },
    {
      "cell_type": "code",
      "execution_count": 8,
      "metadata": {
        "colab": {
          "base_uri": "https://localhost:8080/"
        },
        "id": "3iUahNiJyQbv",
        "outputId": "78bf06ef-2ee8-46c3-f73d-27958b4dd79b"
      },
      "outputs": [],
      "source": [
        "os.environ[\"COHERE_API_KEY\"] = getpass.getpass(\"Cohere API Key:\")"
      ]
    },
    {
      "cell_type": "markdown",
      "metadata": {
        "id": "mw304iAFyRtl"
      },
      "source": [
        "## Task 2: Data Collection and Preparation\n",
        "\n",
        "We'll be using our Use Case Data once again - this time the strutured data available through the CSV!"
      ]
    },
    {
      "cell_type": "markdown",
      "metadata": {
        "id": "A92NC2QZzCsi"
      },
      "source": [
        "### Data Preparation\n",
        "\n",
        "We want to make sure all our documents have the relevant metadata for the various retrieval strategies we're going to be applying today."
      ]
    },
    {
      "cell_type": "code",
      "execution_count": 18,
      "metadata": {
        "id": "GshBjVRJZ6p8"
      },
      "outputs": [],
      "source": [
        "from langchain_community.document_loaders.csv_loader import CSVLoader\n",
        "from datetime import datetime, timedelta\n",
        "\n",
        "loader = CSVLoader(\n",
        "    file_path=f\"./data/Projects_with_Domains.csv\",\n",
        "    metadata_columns=[\n",
        "      \"Project Title\",\n",
        "      \"Project Domain\",\n",
        "      \"Secondary Domain\",\n",
        "      \"Description\",\n",
        "      \"Judge Comments\",\n",
        "      \"Score\",\n",
        "      \"Project Name\",\n",
        "      \"Judge Score\"\n",
        "    ]\n",
        ")\n",
        "\n",
        "synthetic_usecase_data = loader.load()\n",
        "\n",
        "for doc in synthetic_usecase_data:\n",
        "    doc.page_content = doc.metadata[\"Description\"]"
      ]
    },
    {
      "cell_type": "markdown",
      "metadata": {
        "id": "9gQphb6y0C0S"
      },
      "source": [
        "Let's look at an example document to see if everything worked as expected!"
      ]
    },
    {
      "cell_type": "code",
      "execution_count": 130,
      "metadata": {
        "colab": {
          "base_uri": "https://localhost:8080/"
        },
        "id": "PkUkCf7DaMiq",
        "outputId": "e90bd5da-1d87-423b-838a-cb6efc16b199"
      },
      "outputs": [
        {
          "data": {
            "text/plain": [
              "Document(metadata={'source': './data/Projects_with_Domains.csv', 'row': 0, 'Project Title': 'InsightAI 1', 'Project Domain': 'Security', 'Secondary Domain': 'Finance / FinTech', 'Description': 'A low-latency inference system for multimodal agents in autonomous systems.', 'Judge Comments': 'Technically ambitious and well-executed.', 'Score': '85', 'Project Name': 'Project Aurora', 'Judge Score': '9.5'}, page_content='A low-latency inference system for multimodal agents in autonomous systems.')"
            ]
          },
          "execution_count": 130,
          "metadata": {},
          "output_type": "execute_result"
        }
      ],
      "source": [
        "synthetic_usecase_data[0]"
      ]
    },
    {
      "cell_type": "markdown",
      "metadata": {
        "id": "lWaQpdHl0Gzc"
      },
      "source": [
        "## Task 3: Setting up QDrant!\n",
        "\n",
        "Now that we have our documents, let's create a QDrant VectorStore with the collection name \"Synthetic_Usecases\".\n",
        "\n",
        "We'll leverage OpenAI's [`text-embedding-3-small`](https://openai.com/blog/new-embedding-models-and-api-updates) because it's a very powerful (and low-cost) embedding model.\n",
        "\n",
        "> NOTE: We'll be creating additional vectorstores where necessary, but this pattern is still extremely useful."
      ]
    },
    {
      "cell_type": "code",
      "execution_count": 20,
      "metadata": {
        "id": "NT8ihRJbYmMT"
      },
      "outputs": [],
      "source": [
        "from langchain_community.vectorstores import Qdrant\n",
        "from langchain_openai import OpenAIEmbeddings\n",
        "\n",
        "embeddings = OpenAIEmbeddings(model=\"text-embedding-3-small\")\n",
        "\n",
        "vectorstore = Qdrant.from_documents(\n",
        "    synthetic_usecase_data,\n",
        "    embeddings,\n",
        "    location=\":memory:\",\n",
        "    collection_name=\"Synthetic_Usecases\"\n",
        ")"
      ]
    },
    {
      "cell_type": "markdown",
      "metadata": {
        "id": "-x2SS4Rh0hiN"
      },
      "source": [
        "## Task 4: Naive RAG Chain\n",
        "\n",
        "Since we're focusing on the \"R\" in RAG today - we'll create our Retriever first."
      ]
    },
    {
      "cell_type": "markdown",
      "metadata": {
        "id": "NEH7X5Ai08FH"
      },
      "source": [
        "### R - Retrieval\n",
        "\n",
        "This naive retriever will simply look at each review as a document, and use cosine-similarity to fetch the 10 most relevant documents.\n",
        "\n",
        "> NOTE: We're choosing `10` as our `k` here to provide enough documents for our reranking process later"
      ]
    },
    {
      "cell_type": "code",
      "execution_count": 21,
      "metadata": {
        "id": "GFDPrNBtb72o"
      },
      "outputs": [],
      "source": [
        "naive_retriever = vectorstore.as_retriever(search_kwargs={\"k\" : 10})"
      ]
    },
    {
      "cell_type": "markdown",
      "metadata": {
        "id": "MbBhyQjz06dx"
      },
      "source": [
        "### A - Augmented\n",
        "\n",
        "We're going to go with a standard prompt for our simple RAG chain today! Nothing fancy here, we want this to mostly be about the Retrieval process."
      ]
    },
    {
      "cell_type": "code",
      "execution_count": 22,
      "metadata": {
        "id": "7uSz-Dbqcoki"
      },
      "outputs": [],
      "source": [
        "from langchain_core.prompts import ChatPromptTemplate\n",
        "\n",
        "RAG_TEMPLATE = \"\"\"\\\n",
        "You are a helpful and kind assistant. Use the context provided below to answer the question.\n",
        "\n",
        "If you do not know the answer, or are unsure, say you don't know.\n",
        "\n",
        "Query:\n",
        "{question}\n",
        "\n",
        "Context:\n",
        "{context}\n",
        "\"\"\"\n",
        "\n",
        "rag_prompt = ChatPromptTemplate.from_template(RAG_TEMPLATE)"
      ]
    },
    {
      "cell_type": "markdown",
      "metadata": {
        "id": "BlRzpb231GGJ"
      },
      "source": [
        "### G - Generation\n",
        "\n",
        "We're going to leverage `gpt-4.1-nano` as our LLM today, as - again - we want this to largely be about the Retrieval process."
      ]
    },
    {
      "cell_type": "code",
      "execution_count": 23,
      "metadata": {
        "id": "c-1t9H60dJLg"
      },
      "outputs": [],
      "source": [
        "from langchain_openai import ChatOpenAI\n",
        "\n",
        "chat_model = ChatOpenAI(model=\"gpt-4.1-nano\")"
      ]
    },
    {
      "cell_type": "markdown",
      "metadata": {
        "id": "mg3QRGzA1M2x"
      },
      "source": [
        "### LCEL RAG Chain\n",
        "\n",
        "We're going to use LCEL to construct our chain.\n",
        "\n",
        "> NOTE: This chain will be exactly the same across the various examples with the exception of our Retriever!"
      ]
    },
    {
      "cell_type": "code",
      "execution_count": 24,
      "metadata": {
        "id": "0bvstS7mdOW3"
      },
      "outputs": [],
      "source": [
        "from langchain_core.runnables import RunnablePassthrough\n",
        "from operator import itemgetter\n",
        "from langchain_core.output_parsers import StrOutputParser\n",
        "\n",
        "naive_retrieval_chain = (\n",
        "    # INVOKE CHAIN WITH: {\"question\" : \"<<SOME USER QUESTION>>\"}\n",
        "    # \"question\" : populated by getting the value of the \"question\" key\n",
        "    # \"context\"  : populated by getting the value of the \"question\" key and chaining it into the base_retriever\n",
        "    {\"context\": itemgetter(\"question\") | naive_retriever, \"question\": itemgetter(\"question\")}\n",
        "    # \"context\"  : is assigned to a RunnablePassthrough object (will not be called or considered in the next step)\n",
        "    #              by getting the value of the \"context\" key from the previous step\n",
        "    | RunnablePassthrough.assign(context=itemgetter(\"context\"))\n",
        "    # \"response\" : the \"context\" and \"question\" values are used to format our prompt object and then piped\n",
        "    #              into the LLM and stored in a key called \"response\"\n",
        "    # \"context\"  : populated by getting the value of the \"context\" key from the previous step\n",
        "    | {\"response\": rag_prompt | chat_model, \"context\": itemgetter(\"context\")}\n",
        ")"
      ]
    },
    {
      "cell_type": "markdown",
      "metadata": {
        "id": "izKujhNb1ZG8"
      },
      "source": [
        "Let's see how this simple chain does on a few different prompts.\n",
        "\n",
        "> NOTE: You might think that we've cherry picked prompts that showcase the individual skill of each of the retrieval strategies - you'd be correct!"
      ]
    },
    {
      "cell_type": "code",
      "execution_count": 25,
      "metadata": {
        "colab": {
          "base_uri": "https://localhost:8080/",
          "height": 36
        },
        "id": "LI-5ueEddku9",
        "outputId": "7f3cec18-5f4e-41bb-cf71-51ba0be5388e"
      },
      "outputs": [
        {
          "data": {
            "text/plain": [
              "'Based on the provided data, the most common project domain appears to be \"Healthcare / MedTech,\" as it is mentioned multiple times among the sample projects.'"
            ]
          },
          "execution_count": 25,
          "metadata": {},
          "output_type": "execute_result"
        }
      ],
      "source": [
        "naive_retrieval_chain.invoke({\"question\" : \"What is the most common project domain?\"})[\"response\"].content"
      ]
    },
    {
      "cell_type": "code",
      "execution_count": 26,
      "metadata": {
        "colab": {
          "base_uri": "https://localhost:8080/",
          "height": 36
        },
        "id": "43zdcdUydtXh",
        "outputId": "db874e67-f568-4ed1-b863-b7c17b387052"
      },
      "outputs": [
        {
          "data": {
            "text/plain": [
              "'Yes, there are usecases related to security mentioned in the provided context. Specifically, one project titled \"MediMind 17\" with the project domain \"Security\" focuses on a medical imaging solution that improves early diagnosis through vision transformers.'"
            ]
          },
          "execution_count": 26,
          "metadata": {},
          "output_type": "execute_result"
        }
      ],
      "source": [
        "naive_retrieval_chain.invoke({\"question\" : \"Were there any usecases about security?\"})[\"response\"].content"
      ]
    },
    {
      "cell_type": "code",
      "execution_count": 27,
      "metadata": {
        "colab": {
          "base_uri": "https://localhost:8080/",
          "height": 70
        },
        "id": "lpG6rlvvvKFq",
        "outputId": "a1b330b0-628e-41be-d829-9c1d55e781f5"
      },
      "outputs": [
        {
          "data": {
            "text/plain": [
              "'The judges had generally positive comments about the fintech projects, highlighting their strengths and areas for improvement. Specifically:\\n\\n- For the project \"SkyForge,\" judges called it a \"clever solution with measurable environmental benefit.\"\\n- The project \"DataWeave\" received high praise for \"excellent code quality and use of open-source libraries.\"\\n- \"EchoLens\" was noted for being \"conceptually strong but needing more benchmarking.\"\\n- \"OmniPath\" was described as \"very polished\" with only minor issues.\\n\\nOverall, the judges appreciated the technical maturity, innovative approaches, and real-world impact of the fintech-related projects, though some suggestions for further validation and benchmarking were noted.'"
            ]
          },
          "execution_count": 27,
          "metadata": {},
          "output_type": "execute_result"
        }
      ],
      "source": [
        "naive_retrieval_chain.invoke({\"question\" : \"What did judges have to say about the fintech projects?\"})[\"response\"].content"
      ]
    },
    {
      "cell_type": "markdown",
      "metadata": {
        "id": "jsbfQmbr1leg"
      },
      "source": [
        "Overall, this is not bad! Let's see if we can make it better!"
      ]
    },
    {
      "cell_type": "markdown",
      "metadata": {
        "id": "Ft1vt8HPR16w"
      },
      "source": [
        "## Task 5: Best-Matching 25 (BM25) Retriever\n",
        "\n",
        "Taking a step back in time - [BM25](https://www.nowpublishers.com/article/Details/INR-019) is based on [Bag-Of-Words](https://en.wikipedia.org/wiki/Bag-of-words_model) which is a sparse representation of text.\n",
        "\n",
        "In essence, it's a way to compare how similar two pieces of text are based on the words they both contain.\n",
        "\n",
        "This retriever is very straightforward to set-up! Let's see it happen down below!\n"
      ]
    },
    {
      "cell_type": "code",
      "execution_count": 29,
      "metadata": {
        "id": "qdF4wuj5R-cG"
      },
      "outputs": [],
      "source": [
        "from langchain_community.retrievers import BM25Retriever\n",
        "\n",
        "bm25_retriever = BM25Retriever.from_documents(synthetic_usecase_data)"
      ]
    },
    {
      "cell_type": "markdown",
      "metadata": {
        "id": "KIjJlBQ8drKH"
      },
      "source": [
        "We'll construct the same chain - only changing the retriever."
      ]
    },
    {
      "cell_type": "code",
      "execution_count": 30,
      "metadata": {
        "id": "WR15EQG7SLuw"
      },
      "outputs": [],
      "source": [
        "bm25_retrieval_chain = (\n",
        "    {\"context\": itemgetter(\"question\") | bm25_retriever, \"question\": itemgetter(\"question\")}\n",
        "    | RunnablePassthrough.assign(context=itemgetter(\"context\"))\n",
        "    | {\"response\": rag_prompt | chat_model, \"context\": itemgetter(\"context\")}\n",
        ")"
      ]
    },
    {
      "cell_type": "markdown",
      "metadata": {
        "id": "0Gi-yXCDdvJk"
      },
      "source": [
        "Let's look at the responses!"
      ]
    },
    {
      "cell_type": "code",
      "execution_count": 31,
      "metadata": {
        "colab": {
          "base_uri": "https://localhost:8080/",
          "height": 53
        },
        "id": "oY9qzmm3SOrF",
        "outputId": "4d4f450f-5978-460f-f242-b32407868353"
      },
      "outputs": [
        {
          "data": {
            "text/plain": [
              "\"Based on the data provided, the most common project domain cannot be definitively determined from these few examples alone, as the sample includes 'Productivity Assistants,' 'Legal / Compliance,' 'Data / Analytics,' and 'Healthcare / MedTech.' \\n\\nHowever, if we consider the entire dataset, the domain that appears most frequently or is typically most common in such project collections tends to be 'Data / Analytics' or similar fields, but I cannot confirm this with absolute certainty given only the small sample.\\n\\nIf you need a definitive answer, more data or analysis of the full dataset would be necessary.\""
            ]
          },
          "execution_count": 31,
          "metadata": {},
          "output_type": "execute_result"
        }
      ],
      "source": [
        "bm25_retrieval_chain.invoke({\"question\" : \"What is the most common project domain?\"})[\"response\"].content"
      ]
    },
    {
      "cell_type": "code",
      "execution_count": 32,
      "metadata": {
        "colab": {
          "base_uri": "https://localhost:8080/",
          "height": 36
        },
        "id": "igfinyneSQkh",
        "outputId": "9752d4a9-dd16-45b1-f63f-a76e93a05eb3"
      },
      "outputs": [
        {
          "data": {
            "text/plain": [
              "'Based on the provided context, there are no explicit mentions of use cases related to security.'"
            ]
          },
          "execution_count": 32,
          "metadata": {},
          "output_type": "execute_result"
        }
      ],
      "source": [
        "bm25_retrieval_chain.invoke({\"question\" : \"Were there any usecases about security?\"})[\"response\"].content"
      ]
    },
    {
      "cell_type": "code",
      "execution_count": 33,
      "metadata": {
        "colab": {
          "base_uri": "https://localhost:8080/",
          "height": 53
        },
        "id": "w0H7pV_USSMQ",
        "outputId": "bdead654-3109-4143-9a30-e1d6ca8dc534"
      },
      "outputs": [
        {
          "data": {
            "text/plain": [
              "'The judges had some positive comments about the fintech projects, describing the PulseAI 50 project as \"technically ambitious and well-executed.\"'"
            ]
          },
          "execution_count": 33,
          "metadata": {},
          "output_type": "execute_result"
        }
      ],
      "source": [
        "bm25_retrieval_chain.invoke({\"question\" : \"What did judges have to say about the fintech projects?\"})[\"response\"].content"
      ]
    },
    {
      "cell_type": "markdown",
      "metadata": {
        "id": "zvg5xHaUdxCl"
      },
      "source": [
        "It's not clear that this is better or worse, if only we had a way to test this (SPOILERS: We do, the second half of the notebook will cover this)"
      ]
    },
    {
      "cell_type": "markdown",
      "metadata": {},
      "source": [
        "#### ❓ Question #1:\n",
        "\n",
        "Give an example query where BM25 is better than embeddings and justify your answer.\n",
        "\n",
        "##### ✅ Answer\n",
        "\n",
        "For question 2 \"Were there any usecases about security\" BM25 performed better because I gave an honest answer (I don't know) because it cannot find the information while the Naive Retriever identified \"LatticeFlow\" as a security related project because it had \"Security\" as a secondary domain.  In this case, BM25's precision (avoiding false positives) was more valuable than the embedding's recall (finding potentially related documents).\n"
      ]
    },
    {
      "cell_type": "markdown",
      "metadata": {
        "id": "Q-dcbFn2vpZF"
      },
      "source": [
        "## Task 6: Contextual Compression (Using Reranking)\n",
        "\n",
        "Contextual Compression is a fairly straightforward idea: We want to \"compress\" our retrieved context into just the most useful bits.\n",
        "\n",
        "There are a few ways we can achieve this - but we're going to look at a specific example called reranking.\n",
        "\n",
        "The basic idea here is this:\n",
        "\n",
        "- We retrieve lots of documents that are very likely related to our query vector\n",
        "- We \"compress\" those documents into a smaller set of *more* related documents using a reranking algorithm.\n",
        "\n",
        "We'll be leveraging Cohere's Rerank model for our reranker today!\n",
        "\n",
        "All we need to do is the following:\n",
        "\n",
        "- Create a basic retriever\n",
        "- Create a compressor (reranker, in this case)\n",
        "\n",
        "That's it!\n",
        "\n",
        "Let's see it in the code below!"
      ]
    },
    {
      "cell_type": "code",
      "execution_count": 36,
      "metadata": {
        "id": "psHvO2K1v_ZQ"
      },
      "outputs": [],
      "source": [
        "from langchain.retrievers.contextual_compression import ContextualCompressionRetriever\n",
        "from langchain_cohere import CohereRerank\n",
        "\n",
        "compressor = CohereRerank(model=\"rerank-v3.5\")\n",
        "compression_retriever = ContextualCompressionRetriever(\n",
        "    base_compressor=compressor, base_retriever=naive_retriever\n",
        ")"
      ]
    },
    {
      "cell_type": "markdown",
      "metadata": {
        "id": "_TA9RB2x-j7P"
      },
      "source": [
        "Let's create our chain again, and see how this does!"
      ]
    },
    {
      "cell_type": "code",
      "execution_count": 37,
      "metadata": {
        "id": "1BXqmxvHwX6T"
      },
      "outputs": [],
      "source": [
        "contextual_compression_retrieval_chain = (\n",
        "    {\"context\": itemgetter(\"question\") | compression_retriever, \"question\": itemgetter(\"question\")}\n",
        "    | RunnablePassthrough.assign(context=itemgetter(\"context\"))\n",
        "    | {\"response\": rag_prompt | chat_model, \"context\": itemgetter(\"context\")}\n",
        ")"
      ]
    },
    {
      "cell_type": "code",
      "execution_count": 38,
      "metadata": {
        "colab": {
          "base_uri": "https://localhost:8080/",
          "height": 36
        },
        "id": "V3iGpokswcBb",
        "outputId": "f15d2aa1-5e8b-417d-f623-eb835d072e59"
      },
      "outputs": [
        {
          "data": {
            "text/plain": [
              "\"Based on the provided data, the project domains mentioned include Healthcare / MedTech, Creative / Design / Media, and Security. Since only a few entries are provided, and there is no explicit indication of which is most common overall, it is difficult to determine the most common project domain with certainty.\\n\\nHowever, among the examples given, all belong to different domains, and no single domain appears more frequently than others in this small sample.\\n\\nTherefore, I don't have enough information to definitively identify the most common project domain.\""
            ]
          },
          "execution_count": 38,
          "metadata": {},
          "output_type": "execute_result"
        }
      ],
      "source": [
        "contextual_compression_retrieval_chain.invoke({\"question\" : \"What is the most common project domain?\"})[\"response\"].content"
      ]
    },
    {
      "cell_type": "code",
      "execution_count": 39,
      "metadata": {
        "colab": {
          "base_uri": "https://localhost:8080/",
          "height": 53
        },
        "id": "7u_k0i4OweUd",
        "outputId": "be5fccc8-2352-4189-c524-bbeaa28cf799"
      },
      "outputs": [
        {
          "data": {
            "text/plain": [
              "'Based on the provided context, there are no explicit use cases related to security. The projects mentioned focus on federated learning to improve privacy in healthcare applications, which is related to privacy and data security, but there are no direct references to security use cases.'"
            ]
          },
          "execution_count": 39,
          "metadata": {},
          "output_type": "execute_result"
        }
      ],
      "source": [
        "contextual_compression_retrieval_chain.invoke({\"question\" : \"Were there any usecases about security?\"})[\"response\"].content"
      ]
    },
    {
      "cell_type": "code",
      "execution_count": 40,
      "metadata": {
        "colab": {
          "base_uri": "https://localhost:8080/",
          "height": 70
        },
        "id": "zn1EqaGqweXN",
        "outputId": "42bc5972-4164-46eb-f49d-4272f39bb89b"
      },
      "outputs": [
        {
          "data": {
            "text/plain": [
              "'Judges generally had positive comments about the fintech projects. For example, they praised one project for its excellent code quality and effective use of open-source libraries.'"
            ]
          },
          "execution_count": 40,
          "metadata": {},
          "output_type": "execute_result"
        }
      ],
      "source": [
        "contextual_compression_retrieval_chain.invoke({\"question\" : \"What did judges have to say about the fintech projects?\"})[\"response\"].content"
      ]
    },
    {
      "cell_type": "markdown",
      "metadata": {
        "id": "OEbT0g2S-mZ4"
      },
      "source": [
        "We'll need to rely on something like Ragas to help us get a better sense of how this is performing overall - but it \"feels\" better!"
      ]
    },
    {
      "cell_type": "markdown",
      "metadata": {
        "id": "qqbghrBEQNn5"
      },
      "source": [
        "## Task 7: Multi-Query Retriever\n",
        "\n",
        "Typically in RAG we have a single query - the one provided by the user.\n",
        "\n",
        "What if we had....more than one query!\n",
        "\n",
        "In essence, a Multi-Query Retriever works by:\n",
        "\n",
        "1. Taking the original user query and creating `n` number of new user queries using an LLM.\n",
        "2. Retrieving documents for each query.\n",
        "3. Using all unique retrieved documents as context\n",
        "\n",
        "So, how is it to set-up? Not bad! Let's see it down below!\n",
        "\n"
      ]
    },
    {
      "cell_type": "code",
      "execution_count": 41,
      "metadata": {
        "id": "pfM26ReXQjzU"
      },
      "outputs": [],
      "source": [
        "from langchain.retrievers.multi_query import MultiQueryRetriever\n",
        "\n",
        "multi_query_retriever = MultiQueryRetriever.from_llm(\n",
        "    retriever=naive_retriever, llm=chat_model\n",
        ") "
      ]
    },
    {
      "cell_type": "code",
      "execution_count": 42,
      "metadata": {
        "id": "1vRc129jQ5WW"
      },
      "outputs": [],
      "source": [
        "multi_query_retrieval_chain = (\n",
        "    {\"context\": itemgetter(\"question\") | multi_query_retriever, \"question\": itemgetter(\"question\")}\n",
        "    | RunnablePassthrough.assign(context=itemgetter(\"context\"))\n",
        "    | {\"response\": rag_prompt | chat_model, \"context\": itemgetter(\"context\")}\n",
        ")"
      ]
    },
    {
      "cell_type": "code",
      "execution_count": 43,
      "metadata": {
        "colab": {
          "base_uri": "https://localhost:8080/",
          "height": 53
        },
        "id": "CGgNuOb3Q3M9",
        "outputId": "c5273ecf-da35-40b8-fbdb-0f8beab425f7"
      },
      "outputs": [
        {
          "data": {
            "text/plain": [
              "'The most common project domain in the provided data appears to be \"E‑commerce / Marketplaces,\" which is mentioned multiple times across different projects.'"
            ]
          },
          "execution_count": 43,
          "metadata": {},
          "output_type": "execute_result"
        }
      ],
      "source": [
        "multi_query_retrieval_chain.invoke({\"question\" : \"What is the most common project domain?\"})[\"response\"].content"
      ]
    },
    {
      "cell_type": "code",
      "execution_count": 44,
      "metadata": {
        "colab": {
          "base_uri": "https://localhost:8080/",
          "height": 36
        },
        "id": "aAlSthxrRDBC",
        "outputId": "230ff807-23ae-4d25-8d11-cfdbed0b77cb"
      },
      "outputs": [
        {
          "data": {
            "text/plain": [
              "'Yes, there are usecases related to security. Specifically, one project is titled \"InsightAI 1,\" which is described as a low-latency inference system for multimodal agents in autonomous systems, and it falls under the Security domain.'"
            ]
          },
          "execution_count": 44,
          "metadata": {},
          "output_type": "execute_result"
        }
      ],
      "source": [
        "multi_query_retrieval_chain.invoke({\"question\" : \"Were there any usecases about security?\"})[\"response\"].content"
      ]
    },
    {
      "cell_type": "code",
      "execution_count": 45,
      "metadata": {
        "colab": {
          "base_uri": "https://localhost:8080/",
          "height": 88
        },
        "id": "Uv1mpCK8REs4",
        "outputId": "00fbc22a-ed9b-4613-9695-0b179e3f8369"
      },
      "outputs": [
        {
          "data": {
            "text/plain": [
              "'The judges generally had positive comments about the fintech projects, highlighting their strengths such as being promising, clever, well-executed, technically ambitious, and having real-world impact. For example:\\n\\n- The project \"SkyForge\" was described as a \"clever solution with measurable environmental benefit.\"\\n- \"GreenPulse\" was noted for being \"technically ambitious and well-executed.\"\\n- \"DataWeave\" received praise for \"excellent code quality and use of open-source libraries.\"\\n- \"SynthMind\" was considered a \"strong quantitative approach.\"\\n- \"HoloFlow\" was seen as a \"forward-looking idea with solid supporting data.\"\\n- \"AetherCompute\" was noted for \"strong quantitative results.\"\\n- \"SynthMind\" (second mention) was described as having \"conceptually strong\" results but needing more benchmarking.\\n- \"LatticeFlow\" was said to be \"well-structured and scalable\" with good potential for commercialization.\\n- \"AutoVerse\" was recognized for \"solid work with impressive real-world impact.\"\\n- \"SoundScape\" also noted as \"technically ambitious and well-executed.\"\\n\\nIn summary, the judges\\' comments reflect overall positive evaluations, emphasizing innovation, technical quality, and potential impact of the fintech projects.'"
            ]
          },
          "execution_count": 45,
          "metadata": {},
          "output_type": "execute_result"
        }
      ],
      "source": [
        "multi_query_retrieval_chain.invoke({\"question\" : \"What did judges have to say about the fintech projects?\"})[\"response\"].content"
      ]
    },
    {
      "cell_type": "markdown",
      "metadata": {},
      "source": [
        "#### ❓ Question #2:\n",
        "\n",
        "Explain how generating multiple reformulations of a user query can improve recall.\n",
        "\n",
        "##### ✅ Answer\n",
        "\n",
        "With multiple reformulations of the user query we get the question from various angles and different phrasings and so the queries might find documents that the original single query might have missed. Or maybe the user did not write a very good prompt but because of the reformulations the quality of the prompt are enhanced. So in short: **Multiple query angles = higher chance of finding all relevant documents = improved recall**\n"
      ]
    },
    {
      "cell_type": "markdown",
      "metadata": {
        "id": "EDEawBf_d_3G"
      },
      "source": [
        "## Task 8: Parent Document Retriever\n",
        "\n",
        "A \"small-to-big\" strategy - the Parent Document Retriever works based on a simple strategy:\n",
        "\n",
        "1. Each un-split \"document\" will be designated as a \"parent document\" (You could use larger chunks of document as well, but our data format allows us to consider the overall document as the parent chunk)\n",
        "2. Store those \"parent documents\" in a memory store (not a VectorStore)\n",
        "3. We will chunk each of those documents into smaller documents, and associate them with their respective parents, and store those in a VectorStore. We'll call those \"child chunks\".\n",
        "4. When we query our Retriever, we will do a similarity search comparing our query vector to the \"child chunks\".\n",
        "5. Instead of returning the \"child chunks\", we'll return their associated \"parent chunks\".\n",
        "\n",
        "Okay, maybe that was a few steps - but the basic idea is this:\n",
        "\n",
        "- Search for small documents\n",
        "- Return big documents\n",
        "\n",
        "The intuition is that we're likely to find the most relevant information by limiting the amount of semantic information that is encoded in each embedding vector - but we're likely to miss relevant surrounding context if we only use that information.\n",
        "\n",
        "Let's start by creating our \"parent documents\" and defining a `RecursiveCharacterTextSplitter`."
      ]
    },
    {
      "cell_type": "code",
      "execution_count": 46,
      "metadata": {
        "id": "qJ53JJuMd_ZH"
      },
      "outputs": [],
      "source": [
        "from langchain.retrievers import ParentDocumentRetriever\n",
        "from langchain.storage import InMemoryStore\n",
        "from langchain_text_splitters import RecursiveCharacterTextSplitter\n",
        "from qdrant_client import QdrantClient, models\n",
        "\n",
        "parent_docs = synthetic_usecase_data\n",
        "child_splitter = RecursiveCharacterTextSplitter(chunk_size=750)"
      ]
    },
    {
      "cell_type": "markdown",
      "metadata": {
        "id": "oOpXfVUH3gL3"
      },
      "source": [
        "We'll need to set up a new QDrant vectorstore - and we'll use another useful pattern to do so!\n",
        "\n",
        "> NOTE: We are manually defining our embedding dimension, you'll need to change this if you're using a different embedding model."
      ]
    },
    {
      "cell_type": "code",
      "execution_count": 47,
      "metadata": {
        "colab": {
          "base_uri": "https://localhost:8080/"
        },
        "id": "rzFc-_9HlGQ-",
        "outputId": "223662dd-c36f-42f7-d1b0-b086e571484e"
      },
      "outputs": [],
      "source": [
        "from langchain_qdrant import QdrantVectorStore\n",
        "\n",
        "client = QdrantClient(location=\":memory:\")\n",
        "\n",
        "client.create_collection(\n",
        "    collection_name=\"child_chunks\",\n",
        "    vectors_config=models.VectorParams(size=1536, distance=models.Distance.COSINE)\n",
        ")\n",
        "\n",
        "parent_document_vectorstore = QdrantVectorStore(\n",
        "    collection_name=\"child_chunks\",\n",
        "    embedding=OpenAIEmbeddings(model=\"text-embedding-3-small\"),\n",
        "    client=client,\n",
        ")"
      ]
    },
    {
      "cell_type": "markdown",
      "metadata": {
        "id": "sf_g95FA3s6w"
      },
      "source": [
        "Now we can create our `InMemoryStore` that will hold our \"parent documents\" - and build our retriever!"
      ]
    },
    {
      "cell_type": "code",
      "execution_count": 48,
      "metadata": {
        "id": "BpWVjPf4fLUp"
      },
      "outputs": [],
      "source": [
        "store = InMemoryStore()\n",
        "\n",
        "parent_document_retriever = ParentDocumentRetriever(\n",
        "    vectorstore = parent_document_vectorstore,\n",
        "    docstore=store,\n",
        "    child_splitter=child_splitter,\n",
        ")"
      ]
    },
    {
      "cell_type": "markdown",
      "metadata": {
        "id": "KoYmSWfE32Zo"
      },
      "source": [
        "By default, this is empty as we haven't added any documents - let's add some now!"
      ]
    },
    {
      "cell_type": "code",
      "execution_count": 49,
      "metadata": {
        "id": "iQ2ZzfKigMZc"
      },
      "outputs": [],
      "source": [
        "parent_document_retriever.add_documents(parent_docs, ids=None)"
      ]
    },
    {
      "cell_type": "markdown",
      "metadata": {
        "id": "bI7Tip1335rE"
      },
      "source": [
        "We'll create the same chain we did before - but substitute our new `parent_document_retriever`."
      ]
    },
    {
      "cell_type": "code",
      "execution_count": 50,
      "metadata": {
        "id": "Qq_adt2KlSqp"
      },
      "outputs": [],
      "source": [
        "parent_document_retrieval_chain = (\n",
        "    {\"context\": itemgetter(\"question\") | parent_document_retriever, \"question\": itemgetter(\"question\")}\n",
        "    | RunnablePassthrough.assign(context=itemgetter(\"context\"))\n",
        "    | {\"response\": rag_prompt | chat_model, \"context\": itemgetter(\"context\")}\n",
        ")"
      ]
    },
    {
      "cell_type": "markdown",
      "metadata": {
        "id": "jNolUVQb4Apt"
      },
      "source": [
        "Let's give it a whirl!"
      ]
    },
    {
      "cell_type": "code",
      "execution_count": 51,
      "metadata": {
        "colab": {
          "base_uri": "https://localhost:8080/",
          "height": 70
        },
        "id": "TXB5i89Zly5W",
        "outputId": "94c240be-7c5b-4c58-9eee-56d93285a054"
      },
      "outputs": [
        {
          "data": {
            "text/plain": [
              "'Based on the provided data, the most common project domain appears to be \"Security,\" as it is mentioned in the context, but since only a few projects are listed and not enough data is shown to definitively determine the most frequent domain, I cannot state with certainty. However, from what is visible, \"Security\" is a prominent domain among the listed projects.'"
            ]
          },
          "execution_count": 51,
          "metadata": {},
          "output_type": "execute_result"
        }
      ],
      "source": [
        "parent_document_retrieval_chain.invoke({\"question\" : \"What is the most common project domain?\"})[\"response\"].content"
      ]
    },
    {
      "cell_type": "code",
      "execution_count": 52,
      "metadata": {
        "colab": {
          "base_uri": "https://localhost:8080/",
          "height": 36
        },
        "id": "V5F1T-wNl3cg",
        "outputId": "9b81e72e-5db7-4b8a-b25b-400ea0df5335"
      },
      "outputs": [
        {
          "data": {
            "text/plain": [
              "'Based on the provided information, there are no specific use cases related to security mentioned in the context. The projects focus on federated learning to improve privacy in healthcare applications, but security as a distinct use case is not explicitly noted.'"
            ]
          },
          "execution_count": 52,
          "metadata": {},
          "output_type": "execute_result"
        }
      ],
      "source": [
        "parent_document_retrieval_chain.invoke({\"question\" : \"Were there any usecases about security?\"})[\"response\"].content"
      ]
    },
    {
      "cell_type": "code",
      "execution_count": 53,
      "metadata": {
        "colab": {
          "base_uri": "https://localhost:8080/",
          "height": 70
        },
        "id": "ZqARszGzvGcG",
        "outputId": "8867f83c-db13-4db4-d57f-9bd51d32cd8a"
      },
      "outputs": [
        {
          "data": {
            "text/plain": [
              "'The judges had positive comments about the fintech projects. For example, they described a project as having a \"measurable environmental benefit\" and called another a \"comprehensive and technically mature approach.\" Overall, the judge comments highlighted the promising nature of these projects, noting their robustness and real-world impact.'"
            ]
          },
          "execution_count": 53,
          "metadata": {},
          "output_type": "execute_result"
        }
      ],
      "source": [
        "parent_document_retrieval_chain.invoke({\"question\" : \"What did judges have to say about the fintech projects?\"})[\"response\"].content"
      ]
    },
    {
      "cell_type": "markdown",
      "metadata": {
        "id": "B41cj42s4DPM"
      },
      "source": [
        "Overall, the performance *seems* largely the same. We can leverage a tool like [Ragas]() to more effectively answer the question about the performance."
      ]
    },
    {
      "cell_type": "markdown",
      "metadata": {
        "id": "VUrIBKl_TwS9"
      },
      "source": [
        "## Task 9: Ensemble Retriever\n",
        "\n",
        "In brief, an Ensemble Retriever simply takes 2, or more, retrievers and combines their retrieved documents based on a rank-fusion algorithm.\n",
        "\n",
        "In this case - we're using the [Reciprocal Rank Fusion](https://plg.uwaterloo.ca/~gvcormac/cormacksigir09-rrf.pdf) algorithm.\n",
        "\n",
        "Setting it up is as easy as providing a list of our desired retrievers - and the weights for each retriever."
      ]
    },
    {
      "cell_type": "code",
      "execution_count": 54,
      "metadata": {
        "id": "8j7jpZsKTxic"
      },
      "outputs": [],
      "source": [
        "from langchain.retrievers import EnsembleRetriever\n",
        "\n",
        "retriever_list = [bm25_retriever, naive_retriever, parent_document_retriever, compression_retriever, multi_query_retriever]\n",
        "equal_weighting = [1/len(retriever_list)] * len(retriever_list)\n",
        "\n",
        "ensemble_retriever = EnsembleRetriever(\n",
        "    retrievers=retriever_list, weights=equal_weighting\n",
        ")"
      ]
    },
    {
      "cell_type": "markdown",
      "metadata": {
        "id": "kpo9Psl5hhJ-"
      },
      "source": [
        "We'll pack *all* of these retrievers together in an ensemble."
      ]
    },
    {
      "cell_type": "code",
      "execution_count": 55,
      "metadata": {
        "id": "KZ__EZwpUKkd"
      },
      "outputs": [],
      "source": [
        "ensemble_retrieval_chain = (\n",
        "    {\"context\": itemgetter(\"question\") | ensemble_retriever, \"question\": itemgetter(\"question\")}\n",
        "    | RunnablePassthrough.assign(context=itemgetter(\"context\"))\n",
        "    | {\"response\": rag_prompt | chat_model, \"context\": itemgetter(\"context\")}\n",
        ")"
      ]
    },
    {
      "cell_type": "markdown",
      "metadata": {
        "id": "SSsvHpRMj24L"
      },
      "source": [
        "Let's look at our results!"
      ]
    },
    {
      "cell_type": "code",
      "execution_count": 56,
      "metadata": {
        "colab": {
          "base_uri": "https://localhost:8080/",
          "height": 70
        },
        "id": "0lMvqL88UQI-",
        "outputId": "d86dd5f7-0a13-4836-c0ce-cc4c431fd889"
      },
      "outputs": [
        {
          "data": {
            "text/plain": [
              "'Based on the provided data, the most common project domain appears to be \"Legal / Compliance,\" which is listed multiple times in the dataset.'"
            ]
          },
          "execution_count": 56,
          "metadata": {},
          "output_type": "execute_result"
        }
      ],
      "source": [
        "ensemble_retrieval_chain.invoke({\"question\" : \"What is the most common project domain?\"})[\"response\"].content"
      ]
    },
    {
      "cell_type": "code",
      "execution_count": 57,
      "metadata": {
        "colab": {
          "base_uri": "https://localhost:8080/",
          "height": 53
        },
        "id": "MNFWLYECURI1",
        "outputId": "b17973b5-66a9-4481-97d5-880b5754b5c5"
      },
      "outputs": [
        {
          "data": {
            "text/plain": [
              "'Yes, there are use cases related to security. Specifically, the project titled \"MediMind\" falls under the Security domain, with a secondary focus on Legal / Compliance. It involves a medical imaging solution aimed at improving early diagnosis through vision transformers.'"
            ]
          },
          "execution_count": 57,
          "metadata": {},
          "output_type": "execute_result"
        }
      ],
      "source": [
        "ensemble_retrieval_chain.invoke({\"question\" : \"Were there any usecases about security?\"})[\"response\"].content"
      ]
    },
    {
      "cell_type": "code",
      "execution_count": 58,
      "metadata": {
        "colab": {
          "base_uri": "https://localhost:8080/",
          "height": 88
        },
        "id": "A7qbHfWgUR4c",
        "outputId": "f7373144-59ef-4fc7-b75d-ca00e7df881e"
      },
      "outputs": [
        {
          "data": {
            "text/plain": [
              "'The judges\\' comments on the fintech projects were generally positive. For example:\\n\\n- The project \"Pathfinder 27\" received praise for \"Excellent code quality and use of open-source libraries.\"\\n- The project \"PulseAI 50\" was described as \"Technically ambitious and well-executed.\"\\n\\nOverall, judges appreciated the technical quality and execution of the fintech-related projects, highlighting their code quality, potential impact, and ambition.'"
            ]
          },
          "execution_count": 58,
          "metadata": {},
          "output_type": "execute_result"
        }
      ],
      "source": [
        "ensemble_retrieval_chain.invoke({\"question\" : \"What did judges have to say about the fintech projects?\"})[\"response\"].content"
      ]
    },
    {
      "cell_type": "markdown",
      "metadata": {
        "id": "MopbkNJAXVaN"
      },
      "source": [
        "## Task 10: Semantic Chunking\n",
        "\n",
        "While this is not a retrieval method - it *is* an effective way of increasing retrieval performance on corpora that have clean semantic breaks in them.\n",
        "\n",
        "Essentially, Semantic Chunking is implemented by:\n",
        "\n",
        "1. Embedding all sentences in the corpus.\n",
        "2. Combining or splitting sequences of sentences based on their semantic similarity based on a number of [possible thresholding methods](https://python.langchain.com/docs/how_to/semantic-chunker/):\n",
        "  - `percentile`\n",
        "  - `standard_deviation`\n",
        "  - `interquartile`\n",
        "  - `gradient`\n",
        "3. Each sequence of related sentences is kept as a document!\n",
        "\n",
        "Let's see how to implement this!"
      ]
    },
    {
      "cell_type": "markdown",
      "metadata": {
        "id": "U9ciZbFEldv_"
      },
      "source": [
        "We'll use the `percentile` thresholding method for this example which will:\n",
        "\n",
        "Calculate all distances between sentences, and then break apart sequences of setences that exceed a given percentile among all distances."
      ]
    },
    {
      "cell_type": "code",
      "execution_count": 60,
      "metadata": {
        "id": "66EIEWiEYl5y"
      },
      "outputs": [],
      "source": [
        "from langchain_experimental.text_splitter import SemanticChunker\n",
        "\n",
        "semantic_chunker = SemanticChunker(\n",
        "    embeddings,\n",
        "    breakpoint_threshold_type=\"percentile\"\n",
        ")"
      ]
    },
    {
      "cell_type": "markdown",
      "metadata": {
        "id": "YqoKmz12mhRW"
      },
      "source": [
        "Now we can split our documents."
      ]
    },
    {
      "cell_type": "code",
      "execution_count": 61,
      "metadata": {
        "id": "ROcV7o68ZIq7"
      },
      "outputs": [],
      "source": [
        "semantic_documents = semantic_chunker.split_documents(synthetic_usecase_data[:20])"
      ]
    },
    {
      "cell_type": "markdown",
      "metadata": {
        "id": "L8-LNC-Xmjex"
      },
      "source": [
        "Let's create a new vector store."
      ]
    },
    {
      "cell_type": "code",
      "execution_count": 62,
      "metadata": {
        "id": "h3sl9QjyZhIe"
      },
      "outputs": [],
      "source": [
        "semantic_vectorstore = Qdrant.from_documents(\n",
        "    semantic_documents,\n",
        "    embeddings,\n",
        "    location=\":memory:\",\n",
        "    collection_name=\"Synthetic_Usecase_Data_Semantic_Chunks\"\n",
        ")"
      ]
    },
    {
      "cell_type": "markdown",
      "metadata": {
        "id": "Eh_r_-LHmmKn"
      },
      "source": [
        "We'll use naive retrieval for this example."
      ]
    },
    {
      "cell_type": "code",
      "execution_count": 63,
      "metadata": {
        "id": "odVyDUHwZftc"
      },
      "outputs": [],
      "source": [
        "semantic_retriever = semantic_vectorstore.as_retriever(search_kwargs={\"k\" : 10})"
      ]
    },
    {
      "cell_type": "markdown",
      "metadata": {
        "id": "Mkeiv_ojmp6G"
      },
      "source": [
        "Finally we can create our classic chain!"
      ]
    },
    {
      "cell_type": "code",
      "execution_count": 64,
      "metadata": {
        "id": "xWE_0J0mZveG"
      },
      "outputs": [],
      "source": [
        "semantic_retrieval_chain = (\n",
        "    {\"context\": itemgetter(\"question\") | semantic_retriever, \"question\": itemgetter(\"question\")}\n",
        "    | RunnablePassthrough.assign(context=itemgetter(\"context\"))\n",
        "    | {\"response\": rag_prompt | chat_model, \"context\": itemgetter(\"context\")}\n",
        ")"
      ]
    },
    {
      "cell_type": "markdown",
      "metadata": {
        "id": "R5pfjLQ3ms9_"
      },
      "source": [
        "And view the results!"
      ]
    },
    {
      "cell_type": "code",
      "execution_count": 65,
      "metadata": {
        "colab": {
          "base_uri": "https://localhost:8080/",
          "height": 70
        },
        "id": "0lN2j-e4Z0SD",
        "outputId": "ef483e21-7200-4dfc-b8bf-aed4f23587b2"
      },
      "outputs": [
        {
          "data": {
            "text/plain": [
              "'The most common project domain in the provided data appears to be \"Legal / Compliance,\" which is mentioned twice. Other domains like \"Developer Tools / DevEx,\" \"Customer Support / Helpdesk,\" \"Creative / Design / Media,\" and \"Writing & Content\" are also present, but less frequently. Based on this sample, \"Legal / Compliance\" is the most common.\\n'"
            ]
          },
          "execution_count": 65,
          "metadata": {},
          "output_type": "execute_result"
        }
      ],
      "source": [
        "semantic_retrieval_chain.invoke({\"question\" : \"What is the most common project domain?\"})[\"response\"].content"
      ]
    },
    {
      "cell_type": "code",
      "execution_count": 66,
      "metadata": {
        "colab": {
          "base_uri": "https://localhost:8080/",
          "height": 53
        },
        "id": "xdqfBH1SZ3f9",
        "outputId": "ed62b2d1-7586-46cc-aaf4-c54192a56155"
      },
      "outputs": [
        {
          "data": {
            "text/plain": [
              "'Yes, there are use cases related to security in the provided data. Specifically, the project titled \"BioForge\" falls under the \"Security\" domain and involves a medical imaging solution for early diagnosis. Additionally, \"Project Aurora\" is another project in the \"Security\" domain that focuses on a low-latency inference system for multimodal agents in autonomous systems.'"
            ]
          },
          "execution_count": 66,
          "metadata": {},
          "output_type": "execute_result"
        }
      ],
      "source": [
        "semantic_retrieval_chain.invoke({\"question\" : \"Were there any usecases about security?\"})[\"response\"].content"
      ]
    },
    {
      "cell_type": "code",
      "execution_count": 67,
      "metadata": {
        "colab": {
          "base_uri": "https://localhost:8080/",
          "height": 70
        },
        "id": "rAcAObZnZ4o6",
        "outputId": "3f1cade3-41e4-4e42-ef71-048dd18e5e3a"
      },
      "outputs": [
        {
          "data": {
            "text/plain": [
              "'Judges generally recognized the fintech projects as technically ambitious, well-executed, and with solid potential. For example, one project was described as \"Technically ambitious and well-executed,\" while another was noted for being \"Comprehensive and technically mature.\" Overall, the judges appreciated the quality, innovation, and potential impact of the fintech-related projects.'"
            ]
          },
          "execution_count": 67,
          "metadata": {},
          "output_type": "execute_result"
        }
      ],
      "source": [
        "semantic_retrieval_chain.invoke({\"question\" : \"What did judges have to say about the fintech projects?\"})[\"response\"].content"
      ]
    },
    {
      "cell_type": "markdown",
      "metadata": {},
      "source": [
        "#### ❓ Question #3:\n",
        "\n",
        "If sentences are short and highly repetitive (e.g., FAQs), how might semantic chunking behave, and how would you adjust the algorithm?\n",
        "\n",
        "##### ✅ Answer\n",
        "\n",
        "There are several problems with short, repetetive sentences (like FAQs) and semantic chunking:\n",
        "- similar semantic content, so similarity scores are consistently high\n",
        "- the algorithm creates very large chunks that contain many unrelated Q&A pairs\n",
        "- large chunks reduce precision in retrieval\n",
        "\n",
        "To get better results we could:\n",
        "- use gradient as threshold method because it detects sharp changes in similarity, even when overall similarity is high\n",
        "- adjust the threshold parameter to make it more sensitive -> creates more and smaller chunks\n",
        "- preprocess the text (e.g. add explicit seperators between Q&A blocks as natural breakpoints)\n",
        "\n",
        "The easiest fix for this would be to us a different chunking strategy. Rule-based chunking like RecursiveCharacterTextSplitter would work much better here.\n",
        "\n",
        "Semantic chunking works best with longer, more varied text."
      ]
    },
    {
      "cell_type": "markdown",
      "metadata": {
        "id": "xk2n3-pnVWDJ"
      },
      "source": [
        "# 🤝 Breakout Room Part #2"
      ]
    },
    {
      "cell_type": "markdown",
      "metadata": {
        "id": "2SkJLYwMVZkj"
      },
      "source": [
        "#### 🏗️ Activity #1\n",
        "\n",
        "Your task is to evaluate the various Retriever methods against eachother.\n",
        "\n",
        "You are expected to:\n",
        "\n",
        "1. Create a \"golden dataset\"\n",
        " - Use Synthetic Data Generation (powered by Ragas, or otherwise) to create this dataset\n",
        "2. Evaluate each retriever with *retriever specific* Ragas metrics\n",
        " - Semantic Chunking is not considered a retriever method and will not be required for marks, but you may find it useful to do a \"semantic chunking on\" vs. \"semantic chunking off\" comparision between them\n",
        "3. Compile these in a list and write a small paragraph about which is best for this particular data and why.\n",
        "\n",
        "Your analysis should factor in:\n",
        "  - Cost\n",
        "  - Latency\n",
        "  - Performance\n",
        "\n",
        "> NOTE: This is **NOT** required to be completed in class. Please spend time in your breakout rooms creating a plan before moving on to writing code."
      ]
    },
    {
      "cell_type": "markdown",
      "metadata": {
        "id": "TWAr16a5XMub"
      },
      "source": [
        "##### HINTS:\n",
        "\n",
        "- LangSmith provides detailed information about latency and cost."
      ]
    },
    {
      "cell_type": "markdown",
      "metadata": {},
      "source": [
        "## Step 1: Synthetic Data Generation with RAGAS\n",
        "\n",
        "We will start with the generation of our test data. We will use RAGAS for this.\n",
        "\n",
        "First we will load our data into a LangChain format using DirectoryLoader"
      ]
    },
    {
      "cell_type": "code",
      "execution_count": null,
      "metadata": {},
      "outputs": [],
      "source": [
        "import os\n",
        "import getpass\n",
        "\n",
        "os.environ[\"OPENAI_API_KEY\"] = getpass.getpass(\"Enter your OpenAI API Key:\")"
      ]
    },
    {
      "cell_type": "code",
      "execution_count": 5,
      "metadata": {},
      "outputs": [],
      "source": [
        "os.environ[\"COHERE_API_KEY\"] = getpass.getpass(\"Cohere API Key:\")"
      ]
    },
    {
      "cell_type": "markdown",
      "metadata": {},
      "source": [
        "Load the PDF file:"
      ]
    },
    {
      "cell_type": "code",
      "execution_count": 9,
      "metadata": {},
      "outputs": [],
      "source": [
        "from langchain_community.document_loaders import DirectoryLoader\n",
        "from langchain_community.document_loaders import PyMuPDFLoader\n",
        "\n",
        "path = \"data/\"\n",
        "loader = DirectoryLoader(path, glob=\"*.pdf\", loader_cls=PyMuPDFLoader)\n",
        "pdf_docs = loader.load()"
      ]
    },
    {
      "cell_type": "markdown",
      "metadata": {},
      "source": [
        "Next we define the **generator_llm**, which will generate our question, summaries and more, and the **generator_embeddings** that will be useful for building the graph: "
      ]
    },
    {
      "cell_type": "code",
      "execution_count": 12,
      "metadata": {
        "id": "tgDICngKXLGK"
      },
      "outputs": [],
      "source": [
        "from ragas.llms import LangchainLLMWrapper\n",
        "from ragas.embeddings import LangchainEmbeddingsWrapper\n",
        "from langchain_openai import ChatOpenAI\n",
        "from langchain_openai import OpenAIEmbeddings\n",
        "\n",
        "generator_llm = LangchainLLMWrapper(ChatOpenAI(model=\"gpt-4.1-nano\"))\n",
        "generator_embeddings = LangchainEmbeddingsWrapper(OpenAIEmbeddings())"
      ]
    },
    {
      "cell_type": "markdown",
      "metadata": {},
      "source": [
        "Now let's create our Testdata using the **RAGAS TestsetGenerator**"
      ]
    },
    {
      "cell_type": "code",
      "execution_count": 14,
      "metadata": {},
      "outputs": [
        {
          "data": {
            "application/vnd.jupyter.widget-view+json": {
              "model_id": "80266fc6775d480c976bbc7576d68a1a",
              "version_major": 2,
              "version_minor": 0
            },
            "text/plain": [
              "Applying HeadlinesExtractor:   0%|          | 0/21 [00:00<?, ?it/s]"
            ]
          },
          "metadata": {},
          "output_type": "display_data"
        },
        {
          "data": {
            "application/vnd.jupyter.widget-view+json": {
              "model_id": "4a46de2628754090bec9aceb191ec00b",
              "version_major": 2,
              "version_minor": 0
            },
            "text/plain": [
              "Applying HeadlineSplitter:   0%|          | 0/64 [00:00<?, ?it/s]"
            ]
          },
          "metadata": {},
          "output_type": "display_data"
        },
        {
          "name": "stderr",
          "output_type": "stream",
          "text": [
            "unable to apply transformation: 'headlines' property not found in this node\n",
            "unable to apply transformation: 'headlines' property not found in this node\n",
            "unable to apply transformation: 'headlines' property not found in this node\n",
            "unable to apply transformation: 'headlines' property not found in this node\n",
            "unable to apply transformation: 'headlines' property not found in this node\n",
            "unable to apply transformation: 'headlines' property not found in this node\n",
            "unable to apply transformation: 'headlines' property not found in this node\n",
            "unable to apply transformation: 'headlines' property not found in this node\n",
            "unable to apply transformation: 'headlines' property not found in this node\n",
            "unable to apply transformation: 'headlines' property not found in this node\n",
            "unable to apply transformation: 'headlines' property not found in this node\n",
            "unable to apply transformation: 'headlines' property not found in this node\n",
            "unable to apply transformation: 'headlines' property not found in this node\n",
            "unable to apply transformation: 'headlines' property not found in this node\n",
            "unable to apply transformation: 'headlines' property not found in this node\n",
            "unable to apply transformation: 'headlines' property not found in this node\n",
            "unable to apply transformation: 'headlines' property not found in this node\n",
            "unable to apply transformation: 'headlines' property not found in this node\n",
            "unable to apply transformation: 'headlines' property not found in this node\n",
            "unable to apply transformation: 'headlines' property not found in this node\n",
            "unable to apply transformation: 'headlines' property not found in this node\n",
            "unable to apply transformation: 'headlines' property not found in this node\n",
            "unable to apply transformation: 'headlines' property not found in this node\n",
            "unable to apply transformation: 'headlines' property not found in this node\n",
            "unable to apply transformation: 'headlines' property not found in this node\n",
            "unable to apply transformation: 'headlines' property not found in this node\n",
            "unable to apply transformation: 'headlines' property not found in this node\n",
            "unable to apply transformation: 'headlines' property not found in this node\n",
            "unable to apply transformation: 'headlines' property not found in this node\n",
            "unable to apply transformation: 'headlines' property not found in this node\n",
            "unable to apply transformation: 'headlines' property not found in this node\n",
            "unable to apply transformation: 'headlines' property not found in this node\n",
            "unable to apply transformation: 'headlines' property not found in this node\n",
            "unable to apply transformation: 'headlines' property not found in this node\n",
            "unable to apply transformation: 'headlines' property not found in this node\n",
            "unable to apply transformation: 'headlines' property not found in this node\n",
            "unable to apply transformation: 'headlines' property not found in this node\n",
            "unable to apply transformation: 'headlines' property not found in this node\n",
            "unable to apply transformation: 'headlines' property not found in this node\n",
            "unable to apply transformation: 'headlines' property not found in this node\n",
            "unable to apply transformation: 'headlines' property not found in this node\n",
            "unable to apply transformation: 'headlines' property not found in this node\n",
            "unable to apply transformation: 'headlines' property not found in this node\n"
          ]
        },
        {
          "data": {
            "application/vnd.jupyter.widget-view+json": {
              "model_id": "b3cea161e8f54c8fb8accfe065f19447",
              "version_major": 2,
              "version_minor": 0
            },
            "text/plain": [
              "Applying SummaryExtractor:   0%|          | 0/38 [00:00<?, ?it/s]"
            ]
          },
          "metadata": {},
          "output_type": "display_data"
        },
        {
          "name": "stderr",
          "output_type": "stream",
          "text": [
            "Property 'summary' already exists in node 'b408c7'. Skipping!\n",
            "Property 'summary' already exists in node '0f4d11'. Skipping!\n",
            "Property 'summary' already exists in node '73fd26'. Skipping!\n",
            "Property 'summary' already exists in node '591b5c'. Skipping!\n",
            "Property 'summary' already exists in node '27263e'. Skipping!\n",
            "Property 'summary' already exists in node 'f3810f'. Skipping!\n",
            "Property 'summary' already exists in node 'ae0a6d'. Skipping!\n",
            "Property 'summary' already exists in node 'f6cc54'. Skipping!\n",
            "Property 'summary' already exists in node '2222f6'. Skipping!\n",
            "Property 'summary' already exists in node 'f1a9e7'. Skipping!\n",
            "Property 'summary' already exists in node 'cff3a0'. Skipping!\n",
            "Property 'summary' already exists in node '3e635c'. Skipping!\n",
            "Property 'summary' already exists in node 'c4701a'. Skipping!\n",
            "Property 'summary' already exists in node '2548c0'. Skipping!\n",
            "Property 'summary' already exists in node '6ce3f3'. Skipping!\n",
            "Property 'summary' already exists in node '7683f2'. Skipping!\n",
            "Property 'summary' already exists in node '7b7d0f'. Skipping!\n"
          ]
        },
        {
          "data": {
            "application/vnd.jupyter.widget-view+json": {
              "model_id": "6704343b86064998862f991184d3cdad",
              "version_major": 2,
              "version_minor": 0
            },
            "text/plain": [
              "Applying CustomNodeFilter:   0%|          | 0/8 [00:00<?, ?it/s]"
            ]
          },
          "metadata": {},
          "output_type": "display_data"
        },
        {
          "data": {
            "application/vnd.jupyter.widget-view+json": {
              "model_id": "0406fba38666408aa8c76e5c6e02b109",
              "version_major": 2,
              "version_minor": 0
            },
            "text/plain": [
              "Applying [EmbeddingExtractor, ThemesExtractor, NERExtractor]:   0%|          | 0/48 [00:00<?, ?it/s]"
            ]
          },
          "metadata": {},
          "output_type": "display_data"
        },
        {
          "name": "stderr",
          "output_type": "stream",
          "text": [
            "Property 'summary_embedding' already exists in node 'ae0a6d'. Skipping!\n",
            "Property 'summary_embedding' already exists in node '73fd26'. Skipping!\n",
            "Property 'summary_embedding' already exists in node '0f4d11'. Skipping!\n",
            "Property 'summary_embedding' already exists in node 'f1a9e7'. Skipping!\n",
            "Property 'summary_embedding' already exists in node '27263e'. Skipping!\n",
            "Property 'summary_embedding' already exists in node 'b408c7'. Skipping!\n",
            "Property 'summary_embedding' already exists in node 'f6cc54'. Skipping!\n",
            "Property 'summary_embedding' already exists in node 'f3810f'. Skipping!\n",
            "Property 'summary_embedding' already exists in node 'cff3a0'. Skipping!\n",
            "Property 'summary_embedding' already exists in node '591b5c'. Skipping!\n",
            "Property 'summary_embedding' already exists in node '2222f6'. Skipping!\n",
            "Property 'summary_embedding' already exists in node '3e635c'. Skipping!\n",
            "Property 'summary_embedding' already exists in node 'c4701a'. Skipping!\n",
            "Property 'summary_embedding' already exists in node '7683f2'. Skipping!\n",
            "Property 'summary_embedding' already exists in node '2548c0'. Skipping!\n",
            "Property 'summary_embedding' already exists in node '6ce3f3'. Skipping!\n",
            "Property 'summary_embedding' already exists in node '7b7d0f'. Skipping!\n"
          ]
        },
        {
          "data": {
            "application/vnd.jupyter.widget-view+json": {
              "model_id": "071a74b120074e2f838e34ba09d407d8",
              "version_major": 2,
              "version_minor": 0
            },
            "text/plain": [
              "Applying [CosineSimilarityBuilder, OverlapScoreBuilder]:   0%|          | 0/2 [00:00<?, ?it/s]"
            ]
          },
          "metadata": {},
          "output_type": "display_data"
        },
        {
          "data": {
            "application/vnd.jupyter.widget-view+json": {
              "model_id": "9fa77b9bcaec4925b98906db21a99270",
              "version_major": 2,
              "version_minor": 0
            },
            "text/plain": [
              "Generating personas:   0%|          | 0/3 [00:00<?, ?it/s]"
            ]
          },
          "metadata": {},
          "output_type": "display_data"
        },
        {
          "data": {
            "application/vnd.jupyter.widget-view+json": {
              "model_id": "9ecbdf44dae243d2ace95334aacc78f6",
              "version_major": 2,
              "version_minor": 0
            },
            "text/plain": [
              "Generating Scenarios:   0%|          | 0/3 [00:00<?, ?it/s]"
            ]
          },
          "metadata": {},
          "output_type": "display_data"
        },
        {
          "data": {
            "application/vnd.jupyter.widget-view+json": {
              "model_id": "6a2ce3c36c81499ab7aa007ffcc154da",
              "version_major": 2,
              "version_minor": 0
            },
            "text/plain": [
              "Generating Samples:   0%|          | 0/12 [00:00<?, ?it/s]"
            ]
          },
          "metadata": {},
          "output_type": "display_data"
        },
        {
          "data": {
            "text/html": [
              "<div>\n",
              "<style scoped>\n",
              "    .dataframe tbody tr th:only-of-type {\n",
              "        vertical-align: middle;\n",
              "    }\n",
              "\n",
              "    .dataframe tbody tr th {\n",
              "        vertical-align: top;\n",
              "    }\n",
              "\n",
              "    .dataframe thead th {\n",
              "        text-align: right;\n",
              "    }\n",
              "</style>\n",
              "<table border=\"1\" class=\"dataframe\">\n",
              "  <thead>\n",
              "    <tr style=\"text-align: right;\">\n",
              "      <th></th>\n",
              "      <th>user_input</th>\n",
              "      <th>reference_contexts</th>\n",
              "      <th>reference</th>\n",
              "      <th>synthesizer_name</th>\n",
              "    </tr>\n",
              "  </thead>\n",
              "  <tbody>\n",
              "    <tr>\n",
              "      <th>0</th>\n",
              "      <td>What do Ling and Imas say about the usage of C...</td>\n",
              "      <td>[Introduction ChatGPT launched in November 202...</td>\n",
              "      <td>The provided context does not include any info...</td>\n",
              "      <td>single_hop_specifc_query_synthesizer</td>\n",
              "    </tr>\n",
              "    <tr>\n",
              "      <th>1</th>\n",
              "      <td>As a knowledge worker utilizing AI tools like ...</td>\n",
              "      <td>[Table 1: ChatGPT daily message counts (millio...</td>\n",
              "      <td>Nearly 80% of all ChatGPT usage falls into thr...</td>\n",
              "      <td>single_hop_specifc_query_synthesizer</td>\n",
              "    </tr>\n",
              "    <tr>\n",
              "      <th>2</th>\n",
              "      <td>Could you explain the significance of the SOC ...</td>\n",
              "      <td>[Variation by Occupation Figure 23 presents va...</td>\n",
              "      <td>Variation by Occupation Figure 23 presents var...</td>\n",
              "      <td>single_hop_specifc_query_synthesizer</td>\n",
              "    </tr>\n",
              "    <tr>\n",
              "      <th>3</th>\n",
              "      <td>What are the relashionships in ChatGPT usage?</td>\n",
              "      <td>[Conclusion This paper studies the rapid growt...</td>\n",
              "      <td>The context does not provide specific informat...</td>\n",
              "      <td>single_hop_specifc_query_synthesizer</td>\n",
              "    </tr>\n",
              "    <tr>\n",
              "      <th>4</th>\n",
              "      <td>so like, how does ChatGPT use change for diffe...</td>\n",
              "      <td>[&lt;1-hop&gt;\\n\\nVariation by Occupation Figure 23 ...</td>\n",
              "      <td>Based on the information, ChatGPT usage varies...</td>\n",
              "      <td>multi_hop_abstract_query_synthesizer</td>\n",
              "    </tr>\n",
              "    <tr>\n",
              "      <th>5</th>\n",
              "      <td>How do the increasing monthly message statisti...</td>\n",
              "      <td>[&lt;1-hop&gt;\\n\\nMonth Non-Work (M) (%) Work (M) (%...</td>\n",
              "      <td>The data shows that in June 2025, non-work mes...</td>\n",
              "      <td>multi_hop_abstract_query_synthesizer</td>\n",
              "    </tr>\n",
              "    <tr>\n",
              "      <th>6</th>\n",
              "      <td>How does the rapid growth of ChatGPT and its u...</td>\n",
              "      <td>[&lt;1-hop&gt;\\n\\nConclusion This paper studies the ...</td>\n",
              "      <td>The rapid growth of ChatGPT, launched in Novem...</td>\n",
              "      <td>multi_hop_abstract_query_synthesizer</td>\n",
              "    </tr>\n",
              "    <tr>\n",
              "      <th>7</th>\n",
              "      <td>H0w do statstical analisis and regresion adjsu...</td>\n",
              "      <td>[&lt;1-hop&gt;\\n\\nVariation by Occupation Figure 23 ...</td>\n",
              "      <td>The context shows that variation in ChatGPT us...</td>\n",
              "      <td>multi_hop_abstract_query_synthesizer</td>\n",
              "    </tr>\n",
              "    <tr>\n",
              "      <th>8</th>\n",
              "      <td>How does the growth of ChatGPT usage in the US...</td>\n",
              "      <td>[&lt;1-hop&gt;\\n\\nTable 1: ChatGPT daily message cou...</td>\n",
              "      <td>The data indicates that in the US, as of July ...</td>\n",
              "      <td>multi_hop_specific_query_synthesizer</td>\n",
              "    </tr>\n",
              "    <tr>\n",
              "      <th>9</th>\n",
              "      <td>Wht US is ChatGPT ussed for non-work releted p...</td>\n",
              "      <td>[&lt;1-hop&gt;\\n\\nTable 1: ChatGPT daily message cou...</td>\n",
              "      <td>According to the context, in the US, more than...</td>\n",
              "      <td>multi_hop_specific_query_synthesizer</td>\n",
              "    </tr>\n",
              "    <tr>\n",
              "      <th>10</th>\n",
              "      <td>what July 2025 chatgpt use info and how it cha...</td>\n",
              "      <td>[&lt;1-hop&gt;\\n\\nConclusion This paper studies the ...</td>\n",
              "      <td>In July 2025, ChatGPT had over 700 million wee...</td>\n",
              "      <td>multi_hop_specific_query_synthesizer</td>\n",
              "    </tr>\n",
              "    <tr>\n",
              "      <th>11</th>\n",
              "      <td>How has ChatGPT's usage evolved by July 2025 i...</td>\n",
              "      <td>[&lt;1-hop&gt;\\n\\nConclusion This paper studies the ...</td>\n",
              "      <td>By July 2025, ChatGPT experienced significant ...</td>\n",
              "      <td>multi_hop_specific_query_synthesizer</td>\n",
              "    </tr>\n",
              "  </tbody>\n",
              "</table>\n",
              "</div>"
            ],
            "text/plain": [
              "                                           user_input  \\\n",
              "0   What do Ling and Imas say about the usage of C...   \n",
              "1   As a knowledge worker utilizing AI tools like ...   \n",
              "2   Could you explain the significance of the SOC ...   \n",
              "3       What are the relashionships in ChatGPT usage?   \n",
              "4   so like, how does ChatGPT use change for diffe...   \n",
              "5   How do the increasing monthly message statisti...   \n",
              "6   How does the rapid growth of ChatGPT and its u...   \n",
              "7   H0w do statstical analisis and regresion adjsu...   \n",
              "8   How does the growth of ChatGPT usage in the US...   \n",
              "9   Wht US is ChatGPT ussed for non-work releted p...   \n",
              "10  what July 2025 chatgpt use info and how it cha...   \n",
              "11  How has ChatGPT's usage evolved by July 2025 i...   \n",
              "\n",
              "                                   reference_contexts  \\\n",
              "0   [Introduction ChatGPT launched in November 202...   \n",
              "1   [Table 1: ChatGPT daily message counts (millio...   \n",
              "2   [Variation by Occupation Figure 23 presents va...   \n",
              "3   [Conclusion This paper studies the rapid growt...   \n",
              "4   [<1-hop>\\n\\nVariation by Occupation Figure 23 ...   \n",
              "5   [<1-hop>\\n\\nMonth Non-Work (M) (%) Work (M) (%...   \n",
              "6   [<1-hop>\\n\\nConclusion This paper studies the ...   \n",
              "7   [<1-hop>\\n\\nVariation by Occupation Figure 23 ...   \n",
              "8   [<1-hop>\\n\\nTable 1: ChatGPT daily message cou...   \n",
              "9   [<1-hop>\\n\\nTable 1: ChatGPT daily message cou...   \n",
              "10  [<1-hop>\\n\\nConclusion This paper studies the ...   \n",
              "11  [<1-hop>\\n\\nConclusion This paper studies the ...   \n",
              "\n",
              "                                            reference  \\\n",
              "0   The provided context does not include any info...   \n",
              "1   Nearly 80% of all ChatGPT usage falls into thr...   \n",
              "2   Variation by Occupation Figure 23 presents var...   \n",
              "3   The context does not provide specific informat...   \n",
              "4   Based on the information, ChatGPT usage varies...   \n",
              "5   The data shows that in June 2025, non-work mes...   \n",
              "6   The rapid growth of ChatGPT, launched in Novem...   \n",
              "7   The context shows that variation in ChatGPT us...   \n",
              "8   The data indicates that in the US, as of July ...   \n",
              "9   According to the context, in the US, more than...   \n",
              "10  In July 2025, ChatGPT had over 700 million wee...   \n",
              "11  By July 2025, ChatGPT experienced significant ...   \n",
              "\n",
              "                        synthesizer_name  \n",
              "0   single_hop_specifc_query_synthesizer  \n",
              "1   single_hop_specifc_query_synthesizer  \n",
              "2   single_hop_specifc_query_synthesizer  \n",
              "3   single_hop_specifc_query_synthesizer  \n",
              "4   multi_hop_abstract_query_synthesizer  \n",
              "5   multi_hop_abstract_query_synthesizer  \n",
              "6   multi_hop_abstract_query_synthesizer  \n",
              "7   multi_hop_abstract_query_synthesizer  \n",
              "8   multi_hop_specific_query_synthesizer  \n",
              "9   multi_hop_specific_query_synthesizer  \n",
              "10  multi_hop_specific_query_synthesizer  \n",
              "11  multi_hop_specific_query_synthesizer  "
            ]
          },
          "execution_count": 14,
          "metadata": {},
          "output_type": "execute_result"
        }
      ],
      "source": [
        "from ragas.testset import TestsetGenerator\n",
        "\n",
        "generator = TestsetGenerator(llm=generator_llm, embedding_model=generator_embeddings)\n",
        "dataset = generator.generate_with_langchain_docs(pdf_docs, testset_size=10, )\n",
        "\n",
        "dataset.to_pandas()"
      ]
    },
    {
      "cell_type": "markdown",
      "metadata": {},
      "source": [
        "Create the evaluation dataset from our testdata:"
      ]
    },
    {
      "cell_type": "code",
      "execution_count": 15,
      "metadata": {},
      "outputs": [],
      "source": [
        "from ragas import EvaluationDataset\n",
        "\n",
        "evaluation_dataset = EvaluationDataset.from_pandas(dataset.to_pandas())"
      ]
    },
    {
      "cell_type": "markdown",
      "metadata": {},
      "source": [
        "## Step 2: Constucting our RAG system"
      ]
    },
    {
      "cell_type": "markdown",
      "metadata": {},
      "source": [
        "Splitting our document in chunks using the `RecursiveCharacterTextSplitter`"
      ]
    },
    {
      "cell_type": "code",
      "execution_count": 16,
      "metadata": {},
      "outputs": [
        {
          "data": {
            "text/plain": [
              "182"
            ]
          },
          "execution_count": 16,
          "metadata": {},
          "output_type": "execute_result"
        }
      ],
      "source": [
        "from langchain.text_splitter import RecursiveCharacterTextSplitter\n",
        "\n",
        "text_splitter = RecursiveCharacterTextSplitter(chunk_size=800, chunk_overlap=100)\n",
        "split_documents = text_splitter.split_documents(pdf_docs)\n",
        "\n",
        "len(split_documents)"
      ]
    },
    {
      "cell_type": "markdown",
      "metadata": {},
      "source": [
        "Setting up the embedding model"
      ]
    },
    {
      "cell_type": "code",
      "execution_count": 17,
      "metadata": {},
      "outputs": [],
      "source": [
        "from langchain_openai import OpenAIEmbeddings\n",
        "\n",
        "embeddings = OpenAIEmbeddings(model=\"text-embedding-3-small\")"
      ]
    },
    {
      "cell_type": "markdown",
      "metadata": {},
      "source": [
        "Now we can build our in memory QDrant vector store and add our documents to the store"
      ]
    },
    {
      "cell_type": "code",
      "execution_count": 18,
      "metadata": {},
      "outputs": [],
      "source": [
        "from langchain_qdrant import QdrantVectorStore\n",
        "from qdrant_client import QdrantClient\n",
        "from qdrant_client.http.models import Distance, VectorParams\n",
        "\n",
        "client = QdrantClient(\":memory:\")\n",
        "\n",
        "client.create_collection(\n",
        "    collection_name=\"use_case_data\",\n",
        "    vectors_config=VectorParams(size=1536, distance=Distance.COSINE),\n",
        ")\n",
        "\n",
        "vector_store = QdrantVectorStore(\n",
        "    client=client,\n",
        "    collection_name=\"use_case_data\",\n",
        "    embedding=embeddings,\n",
        ")\n",
        "\n",
        "_ = vector_store.add_documents(documents=split_documents)\n"
      ]
    },
    {
      "cell_type": "markdown",
      "metadata": {},
      "source": [
        "Generate the Prompt Template"
      ]
    },
    {
      "cell_type": "code",
      "execution_count": 19,
      "metadata": {},
      "outputs": [],
      "source": [
        "from langchain_core.prompts import ChatPromptTemplate\n",
        "\n",
        "RAG_TEMPLATE = \"\"\"\\\n",
        "You are a helpful and kind assistant. Use the context provided below to answer the question.\n",
        "\n",
        "If you do not know the answer, or are unsure, say you don't know.\n",
        "\n",
        "Query:\n",
        "{question}\n",
        "\n",
        "Context:\n",
        "{context}\n",
        "\"\"\"\n",
        "\n",
        "rag_prompt = ChatPromptTemplate.from_template(RAG_TEMPLATE)\n"
      ]
    },
    {
      "cell_type": "markdown",
      "metadata": {},
      "source": [
        "And for the G in RAG lets define our chat model:"
      ]
    },
    {
      "cell_type": "code",
      "execution_count": 20,
      "metadata": {},
      "outputs": [],
      "source": [
        "from langchain_openai import ChatOpenAI\n",
        "\n",
        "chat_model = ChatOpenAI(model=\"gpt-4.1-nano\")"
      ]
    },
    {
      "cell_type": "markdown",
      "metadata": {},
      "source": [
        "## Step 3: Define our retrievers\n",
        "\n",
        "1. Naive Retriever"
      ]
    },
    {
      "cell_type": "code",
      "execution_count": 21,
      "metadata": {},
      "outputs": [],
      "source": [
        "naive_retriever = vector_store.as_retriever(search_kwargs={\"k\": 3})"
      ]
    },
    {
      "cell_type": "markdown",
      "metadata": {},
      "source": [
        "2. BM25 Retriever"
      ]
    },
    {
      "cell_type": "code",
      "execution_count": 22,
      "metadata": {},
      "outputs": [],
      "source": [
        "from langchain_community.retrievers import BM25Retriever\n",
        "\n",
        "bm25_retriever = BM25Retriever.from_documents(pdf_docs)"
      ]
    },
    {
      "cell_type": "markdown",
      "metadata": {},
      "source": [
        "3. Contextual Compression (Using Reranking)"
      ]
    },
    {
      "cell_type": "code",
      "execution_count": 23,
      "metadata": {},
      "outputs": [],
      "source": [
        "from langchain.retrievers.contextual_compression import ContextualCompressionRetriever\n",
        "from langchain_cohere import CohereRerank\n",
        "\n",
        "compressor = CohereRerank(model=\"rerank-v3.5\")\n",
        "compression_retriever = ContextualCompressionRetriever(\n",
        "    base_compressor=compressor, base_retriever=naive_retriever\n",
        ")"
      ]
    },
    {
      "cell_type": "markdown",
      "metadata": {},
      "source": [
        "4. Multi-Query Retriever"
      ]
    },
    {
      "cell_type": "code",
      "execution_count": 24,
      "metadata": {},
      "outputs": [],
      "source": [
        "from langchain.retrievers.multi_query import MultiQueryRetriever\n",
        "\n",
        "multi_query_retriever = MultiQueryRetriever.from_llm(\n",
        "    retriever=naive_retriever, llm=chat_model\n",
        ")"
      ]
    },
    {
      "cell_type": "markdown",
      "metadata": {},
      "source": [
        "5. Parent Document Retriever"
      ]
    },
    {
      "cell_type": "code",
      "execution_count": 25,
      "metadata": {},
      "outputs": [],
      "source": [
        "from langchain.retrievers import ParentDocumentRetriever\n",
        "from langchain.storage import InMemoryStore\n",
        "from langchain_text_splitters import RecursiveCharacterTextSplitter\n",
        "from langchain_qdrant import QdrantVectorStore\n",
        "from qdrant_client import QdrantClient, models\n",
        "\n",
        "parent_docs = pdf_docs\n",
        "child_splitter = RecursiveCharacterTextSplitter(chunk_size=750)\n",
        "\n",
        "client = QdrantClient(location=\":memory:\")\n",
        "\n",
        "client.create_collection(\n",
        "    collection_name=\"child_chunks\",\n",
        "    vectors_config=models.VectorParams(size=1536, distance=models.Distance.COSINE),\n",
        ")\n",
        "\n",
        "# We'll need to set up a new QDrant vectorstore - and we'll use another useful pattern to do so!\n",
        "parent_document_vectorstore = QdrantVectorStore(\n",
        "    collection_name=\"child_chunks\",\n",
        "    embedding=OpenAIEmbeddings(model=\"text-embedding-3-small\"),\n",
        "    client=client,\n",
        ")\n",
        "\n",
        "# Now we can create our InMemoryStore that will hold our \"parent documents\" - and build our retriever!\n",
        "store = InMemoryStore()\n",
        "\n",
        "parent_document_retriever = ParentDocumentRetriever(\n",
        "    vectorstore=parent_document_vectorstore,\n",
        "    docstore=store,\n",
        "    child_splitter=child_splitter,\n",
        ")\n",
        "\n",
        "parent_document_retriever.add_documents(parent_docs, ids=None)"
      ]
    },
    {
      "cell_type": "markdown",
      "metadata": {},
      "source": [
        "6. Ensemble Retriever"
      ]
    },
    {
      "cell_type": "code",
      "execution_count": 26,
      "metadata": {},
      "outputs": [],
      "source": [
        "from langchain.retrievers import EnsembleRetriever\n",
        "\n",
        "retriever_list = [\n",
        "    bm25_retriever,\n",
        "    naive_retriever,\n",
        "    parent_document_retriever,\n",
        "    compression_retriever,\n",
        "    multi_query_retriever,\n",
        "]\n",
        "equal_weighting = [1 / len(retriever_list)] * len(retriever_list)\n",
        "\n",
        "ensemble_retriever = EnsembleRetriever(\n",
        "    retrievers=retriever_list, weights=equal_weighting\n",
        ")"
      ]
    },
    {
      "cell_type": "markdown",
      "metadata": {},
      "source": [
        "Helper function to create our RAG chain for the retrievers"
      ]
    },
    {
      "cell_type": "code",
      "execution_count": 32,
      "metadata": {},
      "outputs": [],
      "source": [
        "from langchain_core.runnables import RunnablePassthrough\n",
        "from operator import itemgetter\n",
        "\n",
        "def rag_chain_for_retriever(retriever, rag_prompt, chat_model):\n",
        "    return (\n",
        "        {\n",
        "            \"context\": itemgetter(\"question\") | retriever,\n",
        "            \"question\": itemgetter(\"question\"),\n",
        "        }\n",
        "        | RunnablePassthrough.assign(context=itemgetter(\"context\"))\n",
        "        | {\"response\": rag_prompt | chat_model, \"context\": itemgetter(\"context\")}\n",
        "    )"
      ]
    },
    {
      "cell_type": "markdown",
      "metadata": {},
      "source": [
        "## Step 2. Setting up the evaluation framework:\n",
        "\n",
        "We will use four RAGAS evaluation metrics:\n",
        "\n",
        "- Context Precision: How relevant are the retrieved documents?\n",
        "- Context Recall: How much of the ground truth information is captured?\n",
        "- Faithfulness: How faithful is the generated answer to the retrieved context?\n",
        "- Answer Relevancy: How relevant is the generated answer to the question?\n",
        "\n",
        "We are creating an evaluation function which will be used for the evaluations of the different retriever methods:"
      ]
    },
    {
      "cell_type": "code",
      "execution_count": 55,
      "metadata": {},
      "outputs": [],
      "source": [
        "from ragas import evaluate\n",
        "from ragas.metrics import (\n",
        "    context_precision,\n",
        "    context_recall,\n",
        "    faithfulness,\n",
        "    answer_relevancy,\n",
        ")\n",
        "from datasets import Dataset\n",
        "import time\n",
        "\n",
        "\n",
        "def evaluate_retriever(retriever_name, rag_chain, eval_dataset):\n",
        "    \"\"\"\n",
        "    Evaluate a retriever using RAGAS metrics\n",
        "    \"\"\"\n",
        "    print(f\"Evaluating {retriever_name}...\")\n",
        "\n",
        "    # Generate predictions\n",
        "    predictions = []\n",
        "    for i, example in enumerate(eval_dataset):\n",
        "        question = example.user_input\n",
        "        result = rag_chain.invoke({\"question\": question})\n",
        "\n",
        "        predictions.append(\n",
        "            {\n",
        "                \"question\": question,\n",
        "                \"answer\": result[\"response\"].content,\n",
        "                \"contexts\": [doc.page_content for doc in result[\"context\"]],\n",
        "                \"reference\": example.reference,\n",
        "            }\n",
        "        )\n",
        "        \n",
        "        # Add delay for Contextual Compression to avoid Cohere rate limits (10 calls/min)\n",
        "        if retriever_name == \"Contextual Compression\" and i < len(eval_dataset) - 1:\n",
        "            print(f\"  ⏳ Processed question {i+1}/{len(eval_dataset)}, waiting 7 seconds...\")\n",
        "            time.sleep(7)  # 7 seconds between calls = ~8.5 calls/minute (safely under 10/min)\n",
        "\n",
        "    # Convert to RAGAS format\n",
        "    eval_predictions = Dataset.from_dict(\n",
        "        {\n",
        "            \"question\": [p[\"question\"] for p in predictions],\n",
        "            \"answer\": [p[\"answer\"] for p in predictions],\n",
        "            \"contexts\": [p[\"contexts\"] for p in predictions],\n",
        "            \"reference\": [p[\"reference\"] for p in predictions],\n",
        "        }\n",
        "    )\n",
        "\n",
        "    # Run evaluation\n",
        "    result = evaluate(\n",
        "        eval_predictions,\n",
        "        metrics=[context_precision, context_recall, faithfulness, answer_relevancy],\n",
        "    )\n",
        "\n",
        "    return result\n"
      ]
    },
    {
      "cell_type": "markdown",
      "metadata": {},
      "source": [
        "Helper function to display the results for each retriever"
      ]
    },
    {
      "cell_type": "code",
      "execution_count": 46,
      "metadata": {},
      "outputs": [],
      "source": [
        "def display_results(retriever_name, result):\n",
        "    \"\"\"\n",
        "    Display evaluation results in a clean, readable format\n",
        "    \"\"\"\n",
        "    print(\"\\n\" + \"=\" * 70)\n",
        "    print(f\"📊 EVALUATION RESULTS: {retriever_name.upper()}\")\n",
        "    print(\"=\" * 70)\n",
        "\n",
        "    # Convert to pandas DataFrame\n",
        "    df = result.to_pandas()\n",
        "\n",
        "    # Calculate and display averages\n",
        "    print(\"\\n📈 AVERAGE SCORES:\")\n",
        "    print(\"-\" * 70)\n",
        "    avg_scores = {}\n",
        "\n",
        "    # Get only the metric columns\n",
        "    metric_columns = [\n",
        "        col\n",
        "        for col in df.columns\n",
        "        if col\n",
        "        in [\"context_precision\", \"context_recall\", \"faithfulness\", \"answer_relevancy\"]\n",
        "    ]\n",
        "\n",
        "    for metric_name in metric_columns:\n",
        "        scores = df[metric_name].tolist()\n",
        "        avg_score = sum(scores) / len(scores)\n",
        "        avg_scores[metric_name] = avg_score\n",
        "        print(f\"  {metric_name:25s}: {avg_score:.4f} ({avg_score * 100:.2f}%)\")\n",
        "\n",
        "    # Display individual scores\n",
        "    print(\"\\n📋 INDIVIDUAL SCORES (per test example):\")\n",
        "    print(\"-\" * 70)\n",
        "\n",
        "    df_display = df[metric_columns].copy()\n",
        "    df_display.index.name = \"Example\"\n",
        "    df_display.index = df_display.index + 1  # Start from 1 instead of 0\n",
        "\n",
        "    # Display with nice formatting\n",
        "    print(df_display.to_string(float_format=lambda x: f\"{x:.4f}\"))\n",
        "\n",
        "    return avg_scores\n"
      ]
    },
    {
      "cell_type": "markdown",
      "metadata": {},
      "source": [
        "Create a Dictionary of Retrievers"
      ]
    },
    {
      "cell_type": "code",
      "execution_count": 60,
      "metadata": {},
      "outputs": [
        {
          "name": "stdout",
          "output_type": "stream",
          "text": [
            "✓ Created dictionary with 6 retrievers\n",
            "  Retrievers: Naive, BM25, Multi Query, Parent Document, Contextual Compression, Ensemble\n"
          ]
        }
      ],
      "source": [
        "retrievers_dict = {\n",
        "   \"Naive\": naive_retriever,\n",
        "   \"BM25\": bm25_retriever,\n",
        "   \"Multi Query\": multi_query_retriever,\n",
        "   \"Parent Document\": parent_document_retriever,\n",
        "   \"Contextual Compression\": compression_retriever,\n",
        "   \"Ensemble\": ensemble_retriever,\n",
        "}\n",
        "\n",
        "print(f\"✓ Created dictionary with {len(retrievers_dict)} retrievers\")\n",
        "print(f\"  Retrievers: {', '.join(retrievers_dict.keys())}\")\n"
      ]
    },
    {
      "cell_type": "markdown",
      "metadata": {},
      "source": [
        "Evaluate All Retrievers in a Loop"
      ]
    },
    {
      "cell_type": "code",
      "execution_count": 61,
      "metadata": {},
      "outputs": [
        {
          "name": "stdout",
          "output_type": "stream",
          "text": [
            "\n",
            "======================================================================\n",
            "🔄 Evaluating NAIVE retriever (1/6)\n",
            "======================================================================\n",
            "Evaluating Naive...\n"
          ]
        },
        {
          "data": {
            "application/vnd.jupyter.widget-view+json": {
              "model_id": "5d3edce6b80346ecbf655f6f652a243c",
              "version_major": 2,
              "version_minor": 0
            },
            "text/plain": [
              "Evaluating:   0%|          | 0/48 [00:00<?, ?it/s]"
            ]
          },
          "metadata": {},
          "output_type": "display_data"
        },
        {
          "name": "stdout",
          "output_type": "stream",
          "text": [
            "\n",
            "======================================================================\n",
            "📊 EVALUATION RESULTS: NAIVE\n",
            "======================================================================\n",
            "\n",
            "📈 AVERAGE SCORES:\n",
            "----------------------------------------------------------------------\n",
            "  context_precision        : 0.8472 (84.72%)\n",
            "  context_recall           : 0.5345 (53.45%)\n",
            "  faithfulness             : 0.7809 (78.09%)\n",
            "  answer_relevancy         : 0.8466 (84.66%)\n",
            "\n",
            "📋 INDIVIDUAL SCORES (per test example):\n",
            "----------------------------------------------------------------------\n",
            "         context_precision  context_recall  faithfulness  answer_relevancy\n",
            "Example                                                                   \n",
            "1                   0.0000          1.0000        1.0000            0.0000\n",
            "2                   1.0000          0.3333        0.9167            0.8988\n",
            "3                   1.0000          0.6250        0.9444            0.9606\n",
            "4                   0.3333          1.0000        1.0000            0.9347\n",
            "5                   1.0000          0.5000        0.2800            0.9096\n",
            "6                   1.0000          0.3333        0.2308            0.9421\n",
            "7                   1.0000          0.4000        0.9444            0.8713\n",
            "8                   1.0000          0.5000        1.0000            0.9564\n",
            "9                   1.0000          0.5000        0.8000            0.9369\n",
            "10                  1.0000          0.6667        0.5000            0.9044\n",
            "11                  0.8333          0.3333        0.9444            0.8965\n",
            "12                  1.0000          0.2222        0.8095            0.9477\n",
            "\n",
            "⏳ Waiting 30 seconds before next evaluation to avoid rate limits...\n",
            "\n",
            "======================================================================\n",
            "🔄 Evaluating BM25 retriever (2/6)\n",
            "======================================================================\n",
            "Evaluating BM25...\n"
          ]
        },
        {
          "data": {
            "application/vnd.jupyter.widget-view+json": {
              "model_id": "2b9ecaa5d3bf49b8ab27005520995263",
              "version_major": 2,
              "version_minor": 0
            },
            "text/plain": [
              "Evaluating:   0%|          | 0/48 [00:00<?, ?it/s]"
            ]
          },
          "metadata": {},
          "output_type": "display_data"
        },
        {
          "name": "stdout",
          "output_type": "stream",
          "text": [
            "\n",
            "======================================================================\n",
            "📊 EVALUATION RESULTS: BM25\n",
            "======================================================================\n",
            "\n",
            "📈 AVERAGE SCORES:\n",
            "----------------------------------------------------------------------\n",
            "  context_precision        : 0.8333 (83.33%)\n",
            "  context_recall           : 0.8611 (86.11%)\n",
            "  faithfulness             : 0.8116 (81.16%)\n",
            "  answer_relevancy         : 0.8499 (84.99%)\n",
            "\n",
            "📋 INDIVIDUAL SCORES (per test example):\n",
            "----------------------------------------------------------------------\n",
            "         context_precision  context_recall  faithfulness  answer_relevancy\n",
            "Example                                                                   \n",
            "1                   0.0000          1.0000        0.7333            0.9528\n",
            "2                   1.0000          1.0000        0.9444            0.8701\n",
            "3                   1.0000          1.0000        1.0000            0.9557\n",
            "4                   0.0000          0.0000        1.0000            0.0000\n",
            "5                   1.0000          1.0000        1.0000            0.9239\n",
            "6                   1.0000          0.6667        0.3158            0.9490\n",
            "7                   1.0000          1.0000        0.8333            0.9172\n",
            "8                   1.0000          1.0000        0.1765            0.9608\n",
            "9                   1.0000          1.0000        0.8077            0.8855\n",
            "10                  1.0000          1.0000        1.0000            0.9117\n",
            "11                  1.0000          0.6667        0.9286            0.9200\n",
            "12                  1.0000          1.0000        1.0000            0.9526\n",
            "\n",
            "⏳ Waiting 30 seconds before next evaluation to avoid rate limits...\n",
            "\n",
            "======================================================================\n",
            "🔄 Evaluating MULTI QUERY retriever (3/6)\n",
            "======================================================================\n",
            "Evaluating Multi Query...\n"
          ]
        },
        {
          "data": {
            "application/vnd.jupyter.widget-view+json": {
              "model_id": "de0b3ea7a5fc4747863341241255e808",
              "version_major": 2,
              "version_minor": 0
            },
            "text/plain": [
              "Evaluating:   0%|          | 0/48 [00:00<?, ?it/s]"
            ]
          },
          "metadata": {},
          "output_type": "display_data"
        },
        {
          "name": "stdout",
          "output_type": "stream",
          "text": [
            "\n",
            "======================================================================\n",
            "📊 EVALUATION RESULTS: MULTI QUERY\n",
            "======================================================================\n",
            "\n",
            "📈 AVERAGE SCORES:\n",
            "----------------------------------------------------------------------\n",
            "  context_precision        : 0.8591 (85.91%)\n",
            "  context_recall           : 0.7370 (73.70%)\n",
            "  faithfulness             : 0.8532 (85.32%)\n",
            "  answer_relevancy         : 0.8479 (84.79%)\n",
            "\n",
            "📋 INDIVIDUAL SCORES (per test example):\n",
            "----------------------------------------------------------------------\n",
            "         context_precision  context_recall  faithfulness  answer_relevancy\n",
            "Example                                                                   \n",
            "1                   0.0000          1.0000        1.0000            0.0000\n",
            "2                   1.0000          0.6667        1.0000            0.9132\n",
            "3                   1.0000          1.0000        0.8182            0.9564\n",
            "4                   0.5000          1.0000        1.0000            0.9347\n",
            "5                   1.0000          0.5000        1.0000            0.9185\n",
            "6                   0.9167          1.0000        0.6250            0.9313\n",
            "7                   0.8929          0.4000        0.5000            0.8871\n",
            "8                   1.0000          0.7500        1.0000            0.9468\n",
            "9                   1.0000          0.7500        0.6923            0.9321\n",
            "10                  1.0000          0.6667        0.8824            0.8929\n",
            "11                  1.0000          0.6667        1.0000            0.9017\n",
            "12                  1.0000          0.4444        0.7200            0.9598\n",
            "\n",
            "⏳ Waiting 30 seconds before next evaluation to avoid rate limits...\n",
            "\n",
            "======================================================================\n",
            "🔄 Evaluating PARENT DOCUMENT retriever (4/6)\n",
            "======================================================================\n",
            "Evaluating Parent Document...\n"
          ]
        },
        {
          "data": {
            "application/vnd.jupyter.widget-view+json": {
              "model_id": "be53899552c748ccabc83f74e1535ed4",
              "version_major": 2,
              "version_minor": 0
            },
            "text/plain": [
              "Evaluating:   0%|          | 0/48 [00:00<?, ?it/s]"
            ]
          },
          "metadata": {},
          "output_type": "display_data"
        },
        {
          "name": "stdout",
          "output_type": "stream",
          "text": [
            "\n",
            "======================================================================\n",
            "📊 EVALUATION RESULTS: PARENT DOCUMENT\n",
            "======================================================================\n",
            "\n",
            "📈 AVERAGE SCORES:\n",
            "----------------------------------------------------------------------\n",
            "  context_precision        : 0.7917 (79.17%)\n",
            "  context_recall           : 0.7917 (79.17%)\n",
            "  faithfulness             : 0.8824 (88.24%)\n",
            "  answer_relevancy         : 0.8400 (84.00%)\n",
            "\n",
            "📋 INDIVIDUAL SCORES (per test example):\n",
            "----------------------------------------------------------------------\n",
            "         context_precision  context_recall  faithfulness  answer_relevancy\n",
            "Example                                                                   \n",
            "1                   0.0000          0.0000        0.5000            0.0000\n",
            "2                   1.0000          1.0000        1.0000            0.9292\n",
            "3                   1.0000          1.0000        0.9444            0.9548\n",
            "4                   0.0000          1.0000        1.0000            0.9241\n",
            "5                   1.0000          1.0000        0.9167            0.9172\n",
            "6                   1.0000          1.0000        1.0000            0.9035\n",
            "7                   1.0000          1.0000        1.0000            0.8938\n",
            "8                   1.0000          0.5000        1.0000            0.9595\n",
            "9                   1.0000          1.0000        0.6818            0.8799\n",
            "10                  1.0000          0.6667        0.5455            0.9152\n",
            "11                  0.5000          0.3333        1.0000            0.8146\n",
            "12                  1.0000          1.0000        1.0000            0.9885\n",
            "\n",
            "⏳ Waiting 30 seconds before next evaluation to avoid rate limits...\n",
            "\n",
            "======================================================================\n",
            "🔄 Evaluating CONTEXTUAL COMPRESSION retriever (5/6)\n",
            "======================================================================\n",
            "Evaluating Contextual Compression...\n",
            "  ⏳ Processed question 1/12, waiting 7 seconds...\n",
            "  ⏳ Processed question 2/12, waiting 7 seconds...\n",
            "  ⏳ Processed question 3/12, waiting 7 seconds...\n",
            "  ⏳ Processed question 4/12, waiting 7 seconds...\n",
            "  ⏳ Processed question 5/12, waiting 7 seconds...\n",
            "  ⏳ Processed question 6/12, waiting 7 seconds...\n",
            "  ⏳ Processed question 7/12, waiting 7 seconds...\n",
            "  ⏳ Processed question 8/12, waiting 7 seconds...\n",
            "  ⏳ Processed question 9/12, waiting 7 seconds...\n",
            "  ⏳ Processed question 10/12, waiting 7 seconds...\n",
            "  ⏳ Processed question 11/12, waiting 7 seconds...\n"
          ]
        },
        {
          "data": {
            "application/vnd.jupyter.widget-view+json": {
              "model_id": "0138185e345544379b166905ee87478c",
              "version_major": 2,
              "version_minor": 0
            },
            "text/plain": [
              "Evaluating:   0%|          | 0/48 [00:00<?, ?it/s]"
            ]
          },
          "metadata": {},
          "output_type": "display_data"
        },
        {
          "name": "stdout",
          "output_type": "stream",
          "text": [
            "\n",
            "======================================================================\n",
            "📊 EVALUATION RESULTS: CONTEXTUAL COMPRESSION\n",
            "======================================================================\n",
            "\n",
            "📈 AVERAGE SCORES:\n",
            "----------------------------------------------------------------------\n",
            "  context_precision        : 0.8333 (83.33%)\n",
            "  context_recall           : 0.6005 (60.05%)\n",
            "  faithfulness             : 0.8624 (86.24%)\n",
            "  answer_relevancy         : 0.8487 (84.87%)\n",
            "\n",
            "📋 INDIVIDUAL SCORES (per test example):\n",
            "----------------------------------------------------------------------\n",
            "         context_precision  context_recall  faithfulness  answer_relevancy\n",
            "Example                                                                   \n",
            "1                   0.0000          1.0000        1.0000            0.0000\n",
            "2                   1.0000          0.5000        0.6667            0.8887\n",
            "3                   1.0000          1.0000        0.8947            0.9548\n",
            "4                   0.0000          1.0000        1.0000            0.9613\n",
            "5                   1.0000          0.8333        0.7826            0.8962\n",
            "6                   1.0000          0.6667        1.0000            0.9313\n",
            "7                   1.0000          0.4000        0.7407            0.9172\n",
            "8                   1.0000          0.5000        0.8261            0.9361\n",
            "9                   1.0000          0.5000        1.0000            0.9036\n",
            "10                  1.0000          0.3333        0.5000            0.9179\n",
            "11                  1.0000          0.2500        0.9375            0.9373\n",
            "12                  1.0000          0.2222        1.0000            0.9402\n",
            "\n",
            "⏳ Waiting 30 seconds before next evaluation to avoid rate limits...\n",
            "\n",
            "======================================================================\n",
            "🔄 Evaluating ENSEMBLE retriever (6/6)\n",
            "======================================================================\n",
            "Evaluating Ensemble...\n"
          ]
        },
        {
          "data": {
            "application/vnd.jupyter.widget-view+json": {
              "model_id": "d6825f1d92424cf28e9b4acf8b50de6d",
              "version_major": 2,
              "version_minor": 0
            },
            "text/plain": [
              "Evaluating:   0%|          | 0/48 [00:00<?, ?it/s]"
            ]
          },
          "metadata": {},
          "output_type": "display_data"
        },
        {
          "name": "stdout",
          "output_type": "stream",
          "text": [
            "\n",
            "======================================================================\n",
            "📊 EVALUATION RESULTS: ENSEMBLE\n",
            "======================================================================\n",
            "\n",
            "📈 AVERAGE SCORES:\n",
            "----------------------------------------------------------------------\n",
            "  context_precision        : 0.8119 (81.19%)\n",
            "  context_recall           : 0.8472 (84.72%)\n",
            "  faithfulness             : 0.8943 (89.43%)\n",
            "  answer_relevancy         : 0.8539 (85.39%)\n",
            "\n",
            "📋 INDIVIDUAL SCORES (per test example):\n",
            "----------------------------------------------------------------------\n",
            "         context_precision  context_recall  faithfulness  answer_relevancy\n",
            "Example                                                                   \n",
            "1                   0.0000          0.0000        0.5000            0.0000\n",
            "2                   1.0000          1.0000        0.9524            0.9142\n",
            "3                   1.0000          1.0000        0.8696            0.9534\n",
            "4                   0.0000          1.0000        0.9459            0.9413\n",
            "5                   1.0000          1.0000        1.0000            0.9200\n",
            "6                   1.0000          1.0000        0.9474            0.9245\n",
            "7                   1.0000          1.0000        1.0000            0.9122\n",
            "8                   1.0000          0.5000        1.0000            0.9569\n",
            "9                   1.0000          1.0000        0.7391            0.9342\n",
            "10                  0.8372          1.0000        0.7778            0.9102\n",
            "11                  0.9051          0.6667        1.0000            0.9204\n",
            "12                  1.0000          1.0000        1.0000            0.9598\n",
            "\n",
            "✅ Evaluation complete!\n"
          ]
        }
      ],
      "source": [
        "# Timeout to avoid rate limits with cohere\n",
        "TIMEOUT = 30\n",
        "\n",
        "# Store all results\n",
        "all_results = {}\n",
        "all_avg_scores = {}\n",
        "\n",
        "# Iterate through all retrievers\n",
        "for i, (retriever_name, retriever) in enumerate(retrievers_dict.items()):\n",
        "    print(f\"\\n{'=' * 70}\")\n",
        "    print(\n",
        "        f\"🔄 Evaluating {retriever_name.upper()} retriever ({i + 1}/{len(retrievers_dict)})\"\n",
        "    )\n",
        "    print(f\"{'=' * 70}\")\n",
        "\n",
        "    try:\n",
        "        # Create RAG chain for this retriever\n",
        "        rag_chain = rag_chain_for_retriever(retriever, rag_prompt, chat_model)\n",
        "\n",
        "        # Evaluate\n",
        "        result = evaluate_retriever(retriever_name, rag_chain, evaluation_dataset)\n",
        "\n",
        "        # Store results\n",
        "        all_results[retriever_name] = result\n",
        "\n",
        "        # Display results\n",
        "        avg_scores = display_results(retriever_name, result)\n",
        "        all_avg_scores[retriever_name] = avg_scores\n",
        "\n",
        "        # Add delay between evaluations to avoid rate limits\n",
        "        if i < len(retrievers_dict) - 1:  # Don't wait after the last one\n",
        "            print(f\"\\n⏳ Waiting {TIMEOUT} seconds before next evaluation to avoid rate limits...\")\n",
        "            time.sleep(TIMEOUT)\n",
        "\n",
        "    except Exception as e:\n",
        "        print(f\"❌ Error evaluating {retriever_name}: {e}\")\n",
        "        # Still wait on error to avoid cascading rate limit issues\n",
        "        if i < len(retrievers_dict) - 1:\n",
        "            print(f\"⏳ Waiting {TIMEOUT} seconds before continuing...\")\n",
        "            time.sleep(TIMEOUT)\n",
        "        continue\n",
        "\n",
        "print(\"\\n✅ Evaluation complete!\")\n"
      ]
    },
    {
      "cell_type": "markdown",
      "metadata": {},
      "source": [
        "Create Comparison Table"
      ]
    },
    {
      "cell_type": "code",
      "execution_count": 62,
      "metadata": {},
      "outputs": [
        {
          "name": "stdout",
          "output_type": "stream",
          "text": [
            "\n",
            "======================================================================\n",
            "📊 RETRIEVER COMPARISON SUMMARY\n",
            "======================================================================\n",
            "                        context_precision  context_recall  faithfulness  answer_relevancy\n",
            "BM25                               0.8333          0.8611        0.8116            0.8499\n",
            "Ensemble                           0.8119          0.8472        0.8943            0.8539\n",
            "Parent Document                    0.7917          0.7917        0.8824            0.8400\n",
            "Multi Query                        0.8591          0.7370        0.8532            0.8479\n",
            "Contextual Compression             0.8333          0.6005        0.8624            0.8487\n",
            "Naive                              0.8472          0.5345        0.7809            0.8466\n",
            "\n",
            "🏆 BEST PERFORMERS:\n",
            "----------------------------------------------------------------------\n",
            "  context_precision        : Multi Query (0.8591)\n",
            "  context_recall           : BM25 (0.8611)\n",
            "  faithfulness             : Ensemble (0.8943)\n",
            "  answer_relevancy         : Ensemble (0.8539)\n"
          ]
        }
      ],
      "source": [
        "# Create comparison table\n",
        "import pandas as pd\n",
        "\n",
        "print(\"\\n\" + \"=\" * 70)\n",
        "print(\"📊 RETRIEVER COMPARISON SUMMARY\")\n",
        "print(\"=\" * 70)\n",
        "\n",
        "comparison_df = pd.DataFrame(all_avg_scores).T\n",
        "comparison_df = comparison_df.round(4)\n",
        "\n",
        "# Sort by context_recall (most important for retrievers)\n",
        "comparison_df = comparison_df.sort_values(by=\"context_recall\", ascending=False)\n",
        "\n",
        "print(comparison_df.to_string())\n",
        "\n",
        "# Highlight best performers\n",
        "print(\"\\n🏆 BEST PERFORMERS:\")\n",
        "print(\"-\" * 70)\n",
        "for metric in comparison_df.columns:\n",
        "    best_retriever = comparison_df[metric].idxmax()\n",
        "    best_score = comparison_df[metric].max()\n",
        "    print(f\"  {metric:25s}: {best_retriever} ({best_score:.4f})\")\n"
      ]
    },
    {
      "cell_type": "code",
      "execution_count": 70,
      "metadata": {},
      "outputs": [
        {
          "data": {
            "image/png": "[encoded data removed]",
            "text/plain": [
              "<Figure size 1400x1200 with 2 Axes>"
            ]
          },
          "metadata": {},
          "output_type": "display_data"
        },
        {
          "name": "stdout",
          "output_type": "stream",
          "text": [
            "\n",
            "================================================================================\n",
            "WHY THESE METRICS MATTER FOR RETRIEVERS:\n",
            "================================================================================\n",
            "\n",
            "Context Recall: Measures completeness - how much of the ground truth\n",
            "information was actually retrieved. Critical because if the retriever\n",
            "misses key facts, the LLM can't generate complete answers.\n",
            "\n",
            "Context Precision: Measures relevance - how much of the retrieved\n",
            "information was actually useful. Important because irrelevant context\n",
            "can confuse the LLM and increase costs.\n",
            "\n",
            "================================================================================\n",
            "Retriever comparison complete! Evaluated 6 methods.\n",
            "Best overall: Ensemble | Best recall: BM25 | Best precision: Multi Query\n"
          ]
        }
      ],
      "source": [
        "# RETRIEVER COMPARISON VISUALIZATION\n",
        "# ==================================\n",
        "\n",
        "import matplotlib.pyplot as plt\n",
        "import seaborn as sns\n",
        "import pandas as pd\n",
        "import numpy as np\n",
        "import warnings\n",
        "\n",
        "warnings.filterwarnings(\"ignore\")\n",
        "\n",
        "# Set matplotlib backend for Jupyter\n",
        "%matplotlib inline\n",
        "\n",
        "# Set up clean plotting style\n",
        "plt.style.use(\"default\")\n",
        "sns.set_palette(\"Set2\")\n",
        "plt.rcParams[\"figure.facecolor\"] = \"white\"\n",
        "plt.rcParams[\"axes.facecolor\"] = \"white\"\n",
        "\n",
        "# Create a focused comparison visualization\n",
        "fig, (ax1, ax2) = plt.subplots(2, 1, figsize=(14, 12))\n",
        "fig.suptitle(\n",
        "    \"Advanced Retrieval Methods Performance Comparison\",\n",
        "    fontsize=18,\n",
        "    fontweight=\"bold\",\n",
        "    y=0.98,\n",
        ")\n",
        "\n",
        "# Prepare data\n",
        "metrics = [\"context_precision\", \"context_recall\", \"faithfulness\", \"answer_relevancy\"]\n",
        "metric_labels = [\n",
        "    \"Context Precision\",\n",
        "    \"Context Recall\",\n",
        "    \"Faithfulness\",\n",
        "    \"Answer Relevancy\",\n",
        "]\n",
        "df_comparison = pd.DataFrame(all_avg_scores).T\n",
        "df_comparison = df_comparison.reindex(columns=metrics)\n",
        "\n",
        "# 1. GROUPED BAR CHART - All metrics comparison\n",
        "ax1.set_title(\"Performance Across All Metrics\", fontsize=14, fontweight=\"bold\", pad=20)\n",
        "\n",
        "# Create grouped bar chart with more spacing\n",
        "x = np.arange(len(df_comparison.index))\n",
        "width = 0.18  # Slightly narrower bars for better spacing\n",
        "\n",
        "colors = [\"#1f77b4\", \"#ff7f0e\", \"#2ca02c\", \"#d62728\"]  # Clean, distinct colors\n",
        "\n",
        "for i, metric in enumerate(metrics):\n",
        "    offset = (i - 1.5) * width\n",
        "    bars = ax1.bar(\n",
        "        x + offset,\n",
        "        df_comparison[metric],\n",
        "        width,\n",
        "        label=metric_labels[i],\n",
        "        alpha=0.8,\n",
        "        color=colors[i],\n",
        "    )\n",
        "\n",
        "    # Add value labels on bars with better positioning\n",
        "    for j, bar in enumerate(bars):\n",
        "        height = bar.get_height()\n",
        "        # Position labels higher to avoid overlap\n",
        "        label_y = height + 0.02\n",
        "        ax1.text(\n",
        "            bar.get_x() + bar.get_width() / 2.0,\n",
        "            label_y,\n",
        "            f\"{height:.3f}\",\n",
        "            ha=\"center\",\n",
        "            va=\"bottom\",\n",
        "            fontsize=8,\n",
        "            fontweight=\"bold\",\n",
        "        )\n",
        "\n",
        "ax1.set_xlabel(\"Retrieval Methods\", fontsize=12, fontweight=\"bold\")\n",
        "ax1.set_ylabel(\"Score\", fontsize=12, fontweight=\"bold\")\n",
        "ax1.set_xticks(x)\n",
        "ax1.set_xticklabels(df_comparison.index, rotation=45, ha=\"right\")\n",
        "ax1.legend(fontsize=10, loc=\"upper left\")\n",
        "ax1.set_ylim(0, 1.2)  # More space for labels\n",
        "ax1.grid(True, alpha=0.3, axis=\"y\")\n",
        "\n",
        "# 2. CONTEXT RECALL vs PRECISION COMPARISON - Key metrics for retrievers\n",
        "ax2.set_title(\n",
        "    \"Context Recall vs Precision (Key Metrics for Retrievers)\",\n",
        "    fontsize=14,\n",
        "    fontweight=\"bold\",\n",
        "    pad=20,\n",
        ")\n",
        "\n",
        "# Create scatter plot comparing the two key metrics\n",
        "x_pos = df_comparison[\"context_precision\"]\n",
        "y_pos = df_comparison[\"context_recall\"]\n",
        "retriever_names = df_comparison.index\n",
        "\n",
        "# Create scatter plot with different colors for each retriever\n",
        "colors_scatter = plt.cm.Set1(np.linspace(0, 1, len(retriever_names)))\n",
        "scatter = ax2.scatter(x_pos, y_pos, s=200, alpha=0.7, c=colors_scatter)\n",
        "\n",
        "# Add labels for each point\n",
        "for i, name in enumerate(retriever_names):\n",
        "    ax2.annotate(\n",
        "        name,\n",
        "        (x_pos.iloc[i], y_pos.iloc[i]),\n",
        "        xytext=(5, 5),\n",
        "        textcoords=\"offset points\",\n",
        "        fontsize=9,\n",
        "        fontweight=\"bold\",\n",
        "    )\n",
        "\n",
        "# Set axis limits first\n",
        "ax2.set_xlim(0.5, 1.0)  # Focus on the data range\n",
        "ax2.set_ylim(0.5, 1.0)  # Focus on the data range\n",
        "\n",
        "# Add diagonal line for reference (equal recall and precision) within the visible range\n",
        "ax2.plot([0.5, 1.0], [0.5, 1.0], \"k--\", alpha=0.3)\n",
        "\n",
        "ax2.set_xlabel(\"Context Precision\", fontsize=12, fontweight=\"bold\")\n",
        "ax2.set_ylabel(\"Context Recall\", fontsize=12, fontweight=\"bold\")\n",
        "ax2.grid(True, alpha=0.3)\n",
        "\n",
        "plt.tight_layout()\n",
        "plt.show()\n",
        "\n",
        "# Add explanation text below the plots\n",
        "print(\"\\n\" + \"=\" * 80)\n",
        "print(\"WHY THESE METRICS MATTER FOR RETRIEVERS:\")\n",
        "print(\"=\" * 80)\n",
        "print()\n",
        "print(\"Context Recall: Measures completeness - how much of the ground truth\")\n",
        "print(\"information was actually retrieved. Critical because if the retriever\")\n",
        "print(\"misses key facts, the LLM can't generate complete answers.\")\n",
        "print()\n",
        "print(\"Context Precision: Measures relevance - how much of the retrieved\")\n",
        "print(\"information was actually useful. Important because irrelevant context\")\n",
        "print(\"can confuse the LLM and increase costs.\")\n",
        "print()\n",
        "print(\"=\" * 80)\n",
        "\n",
        "# Calculate and display summary\n",
        "best_recall = df_comparison[\"context_recall\"].idxmax()\n",
        "best_precision = df_comparison[\"context_precision\"].idxmax()\n",
        "best_overall = df_comparison.mean(axis=1).idxmax()\n",
        "\n",
        "print(f\"Retriever comparison complete! Evaluated {len(all_avg_scores)} methods.\")\n",
        "print(\n",
        "    f\"Best overall: {best_overall} | Best recall: {best_recall} | Best precision: {best_precision}\"\n",
        ")\n"
      ]
    },
    {
      "cell_type": "markdown",
      "metadata": {},
      "source": [
        "## Comparison of Naive Chunking with Semantic Chunking"
      ]
    },
    {
      "cell_type": "markdown",
      "metadata": {},
      "source": [
        "Step 1: Create Semantically Chunked Documents"
      ]
    },
    {
      "cell_type": "code",
      "execution_count": 71,
      "metadata": {},
      "outputs": [
        {
          "name": "stdout",
          "output_type": "stream",
          "text": [
            "Creating semantically chunked documents...\n",
            "✓ Regular chunks: 64 documents\n",
            "✓ Semantic chunks: 133 documents\n",
            "  Difference: 69 chunks\n"
          ]
        }
      ],
      "source": [
        "# Create semantically chunked documents\n",
        "from langchain_experimental.text_splitter import SemanticChunker\n",
        "\n",
        "print(\"Creating semantically chunked documents...\")\n",
        "\n",
        "semantic_chunker = SemanticChunker(embeddings, breakpoint_threshold_type=\"percentile\")\n",
        "\n",
        "# Chunk the PDF documents semantically\n",
        "pdf_docs_semantic = semantic_chunker.split_documents(pdf_docs)\n",
        "\n",
        "print(f\"✓ Regular chunks: {len(pdf_docs)} documents\")\n",
        "print(f\"✓ Semantic chunks: {len(pdf_docs_semantic)} documents\")\n",
        "print(f\"  Difference: {len(pdf_docs_semantic) - len(pdf_docs)} chunks\")\n"
      ]
    },
    {
      "cell_type": "markdown",
      "metadata": {},
      "source": [
        "Step 2:  Create Vectorstore with Semantic Chunks"
      ]
    },
    {
      "cell_type": "code",
      "execution_count": 73,
      "metadata": {},
      "outputs": [],
      "source": [
        "# Create a new collection for semantic chunks\n",
        "client.create_collection(\n",
        "    collection_name=\"pdf_semantic_chunks\",\n",
        "    vectors_config=VectorParams(size=1536, distance=Distance.COSINE),\n",
        ")\n",
        "\n",
        "pdf_vectorstore_semantic = QdrantVectorStore(\n",
        "    client=client,\n",
        "    collection_name=\"pdf_semantic_chunks\",\n",
        "    embedding=embeddings,\n",
        ")\n",
        "\n",
        "_ = pdf_vectorstore_semantic.add_documents(documents=pdf_docs_semantic)"
      ]
    },
    {
      "cell_type": "markdown",
      "metadata": {},
      "source": [
        "Step 3: Create Retriever with Semantic Chunks"
      ]
    },
    {
      "cell_type": "code",
      "execution_count": 74,
      "metadata": {},
      "outputs": [
        {
          "name": "stdout",
          "output_type": "stream",
          "text": [
            "✓ Created naive retriever with semantic chunks\n"
          ]
        }
      ],
      "source": [
        "# Create naive retriever with semantic chunks\n",
        "naive_retriever_semantic = pdf_vectorstore_semantic.as_retriever(\n",
        "    search_kwargs={\"k\": 10}\n",
        ")\n",
        "\n",
        "print(\"✓ Created naive retriever with semantic chunks\")\n"
      ]
    },
    {
      "cell_type": "markdown",
      "metadata": {},
      "source": [
        "Step 4: Evaluate and Compare"
      ]
    },
    {
      "cell_type": "code",
      "execution_count": 75,
      "metadata": {},
      "outputs": [
        {
          "name": "stdout",
          "output_type": "stream",
          "text": [
            "\n",
            "======================================================================\n",
            "🔄 Evaluating NAIVE (SEMANTIC CHUNKING) retriever\n",
            "======================================================================\n",
            "Evaluating Naive (Semantic)...\n"
          ]
        },
        {
          "data": {
            "application/vnd.jupyter.widget-view+json": {
              "model_id": "2b2de44e7b584346bb418f814b5c8f24",
              "version_major": 2,
              "version_minor": 0
            },
            "text/plain": [
              "Evaluating:   0%|          | 0/48 [00:00<?, ?it/s]"
            ]
          },
          "metadata": {},
          "output_type": "display_data"
        },
        {
          "name": "stdout",
          "output_type": "stream",
          "text": [
            "\n",
            "======================================================================\n",
            "📊 EVALUATION RESULTS: NAIVE (SEMANTIC)\n",
            "======================================================================\n",
            "\n",
            "📈 AVERAGE SCORES:\n",
            "----------------------------------------------------------------------\n",
            "  context_precision        : 0.7894 (78.94%)\n",
            "  context_recall           : 0.7500 (75.00%)\n",
            "  faithfulness             : 0.7774 (77.74%)\n",
            "  answer_relevancy         : 0.8478 (84.78%)\n",
            "\n",
            "📋 INDIVIDUAL SCORES (per test example):\n",
            "----------------------------------------------------------------------\n",
            "         context_precision  context_recall  faithfulness  answer_relevancy\n",
            "Example                                                                   \n",
            "1                   0.0000          0.0000        0.0000            0.0000\n",
            "2                   1.0000          1.0000        1.0000            0.8940\n",
            "3                   1.0000          1.0000        0.9259            0.9549\n",
            "4                   0.0000          0.0000        1.0000            0.9328\n",
            "5                   1.0000          1.0000        0.6731            0.9190\n",
            "6                   1.0000          1.0000        0.8889            0.9468\n",
            "7                   1.0000          1.0000        0.7949            0.9172\n",
            "8                   1.0000          1.0000        1.0000            0.9468\n",
            "9                   0.9283          1.0000        0.9375            0.9116\n",
            "10                  0.7972          0.3333        0.3000            0.9078\n",
            "11                  0.7469          0.6667        0.8085            0.8995\n",
            "12                  1.0000          1.0000        1.0000            0.9430\n",
            "\n",
            "======================================================================\n",
            "🔍 SEMANTIC CHUNKING COMPARISON\n",
            "======================================================================\n",
            "                   Regular Chunking  Semantic Chunking\n",
            "context_precision            0.8472             0.7894\n",
            "context_recall               0.5345             0.7500\n",
            "faithfulness                 0.7809             0.7774\n",
            "answer_relevancy             0.8466             0.8478\n",
            "\n",
            "📈 IMPROVEMENT:\n",
            "----------------------------------------------------------------------\n",
            "  context_precision        : -6.83% 📉\n",
            "  context_recall           : +40.32% 📈\n",
            "  faithfulness             : -0.44% 📉\n",
            "  answer_relevancy         : +0.14% 📈\n"
          ]
        }
      ],
      "source": [
        "\n",
        "import pandas as pd\n",
        "\n",
        "# Evaluate semantic chunking retriever\n",
        "print(f\"\\n{'=' * 70}\")\n",
        "print(\"🔄 Evaluating NAIVE (SEMANTIC CHUNKING) retriever\")\n",
        "print(f\"{'=' * 70}\")\n",
        "\n",
        "rag_chain_semantic = rag_chain_for_retriever(\n",
        "    naive_retriever_semantic, rag_prompt, chat_model\n",
        ")\n",
        "result_semantic = evaluate_retriever(\n",
        "    \"Naive (Semantic)\", rag_chain_semantic, evaluation_dataset\n",
        ")\n",
        "avg_scores_semantic = display_results(\"Naive (Semantic)\", result_semantic)\n",
        "\n",
        "# Compare with regular naive retriever\n",
        "print(\"\\n\" + \"=\" * 70)\n",
        "print(\"🔍 SEMANTIC CHUNKING COMPARISON\")\n",
        "print(\"=\" * 70)\n",
        "\n",
        "comparison_semantic = pd.DataFrame(\n",
        "    {\n",
        "        \"Regular Chunking\": all_avg_scores[\"Naive\"],\n",
        "        \"Semantic Chunking\": avg_scores_semantic,\n",
        "    }\n",
        ")\n",
        "\n",
        "print(comparison_semantic.round(4).to_string())\n",
        "\n",
        "# Calculate improvement\n",
        "print(\"\\n📈 IMPROVEMENT:\")\n",
        "print(\"-\" * 70)\n",
        "for metric in comparison_semantic.index:\n",
        "    regular = comparison_semantic.loc[metric, \"Regular Chunking\"]\n",
        "    semantic = comparison_semantic.loc[metric, \"Semantic Chunking\"]\n",
        "    improvement = ((semantic - regular) / regular) * 100\n",
        "    symbol = \"📈\" if improvement > 0 else \"📉\" if improvement < 0 else \"➡️\"\n",
        "    print(f\"  {metric:25s}: {improvement:+.2f}% {symbol}\")\n"
      ]
    }
  ],
  "metadata": {
    "colab": {
      "provenance": [],
      "toc_visible": true
    },
    "kernelspec": {
      "display_name": ".venv",
      "language": "python",
      "name": "python3"
    },
    "language_info": {
      "codemirror_mode": {
        "name": "ipython",
        "version": 3
      },
      "file_extension": ".py",
      "mimetype": "text/x-python",
      "name": "python",
      "nbconvert_exporter": "python",
      "pygments_lexer": "ipython3",
      "version": "3.13.0"
    }
  },
  "nbformat": 4,
  "nbformat_minor": 0
}
